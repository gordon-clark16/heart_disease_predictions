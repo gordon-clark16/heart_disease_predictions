{
  "nbformat": 4,
  "nbformat_minor": 0,
  "metadata": {
    "colab": {
      "name": "heart_disease_NN.ipynb",
      "provenance": [],
      "authorship_tag": "ABX9TyOT9kW8GwI3oXKpumXYB/lJ"
    },
    "kernelspec": {
      "name": "python3",
      "display_name": "Python 3"
    },
    "language_info": {
      "name": "python"
    }
  },
  "cells": [
    {
      "cell_type": "markdown",
      "source": [
        "##Preparation"
      ],
      "metadata": {
        "id": "M1P1ql4vydoo"
      }
    },
    {
      "cell_type": "code",
      "execution_count": 29,
      "metadata": {
        "colab": {
          "base_uri": "https://localhost:8080/"
        },
        "id": "aCqxaqQ3x_jl",
        "outputId": "15a543c7-ed2a-4186-b39f-053cd9eae907"
      },
      "outputs": [
        {
          "output_type": "stream",
          "name": "stdout",
          "text": [
            "Drive already mounted at /content/drive; to attempt to forcibly remount, call drive.mount(\"/content/drive\", force_remount=True).\n"
          ]
        }
      ],
      "source": [
        "# mount drive\n",
        "from google.colab import drive\n",
        "drive.mount('/content/drive')"
      ]
    },
    {
      "cell_type": "code",
      "source": [
        "# import libraries\n",
        "import pandas as pd\n",
        "import numpy as np\n",
        "import matplotlib.pyplot as plt\n",
        "import seaborn as sns\n",
        "\n",
        "from sklearn.compose import make_column_selector, make_column_transformer\n",
        "from sklearn.impute import SimpleImputer\n",
        "from sklearn.pipeline import make_pipeline\n",
        "from sklearn.preprocessing import StandardScaler, OneHotEncoder\n",
        "from sklearn.model_selection import train_test_split\n",
        "from sklearn.metrics import classification_report, confusion_matrix\n",
        "from tensorflow.keras.models import Sequential\n",
        "from tensorflow.keras.layers import Dense\n",
        "from tensorflow.keras.callbacks import EarlyStopping\n",
        "from tensorflow.keras.layers import Dropout\n",
        "from tensorflow.keras import layers\n",
        "from tensorflow.keras import regularizers"
      ],
      "metadata": {
        "id": "fKMDUGKUyS-m"
      },
      "execution_count": 30,
      "outputs": []
    },
    {
      "cell_type": "code",
      "source": [
        "# load data\n",
        "df = pd.read_csv('/content/drive/MyDrive/Coding Dojo/Raw Data/heart_disease_health_indicators_BRFSS2015.csv')\n",
        "df.head()"
      ],
      "metadata": {
        "colab": {
          "base_uri": "https://localhost:8080/",
          "height": 270
        },
        "id": "_ERHfRj9yY7A",
        "outputId": "805e1636-512e-4add-bfb3-316ce8ffbece"
      },
      "execution_count": 31,
      "outputs": [
        {
          "output_type": "execute_result",
          "data": {
            "text/html": [
              "\n",
              "  <div id=\"df-3e5ddfa8-9dfc-41cd-8d76-0e0b9fa06053\">\n",
              "    <div class=\"colab-df-container\">\n",
              "      <div>\n",
              "<style scoped>\n",
              "    .dataframe tbody tr th:only-of-type {\n",
              "        vertical-align: middle;\n",
              "    }\n",
              "\n",
              "    .dataframe tbody tr th {\n",
              "        vertical-align: top;\n",
              "    }\n",
              "\n",
              "    .dataframe thead th {\n",
              "        text-align: right;\n",
              "    }\n",
              "</style>\n",
              "<table border=\"1\" class=\"dataframe\">\n",
              "  <thead>\n",
              "    <tr style=\"text-align: right;\">\n",
              "      <th></th>\n",
              "      <th>HeartDiseaseorAttack</th>\n",
              "      <th>HighBP</th>\n",
              "      <th>HighChol</th>\n",
              "      <th>CholCheck</th>\n",
              "      <th>BMI</th>\n",
              "      <th>Smoker</th>\n",
              "      <th>Stroke</th>\n",
              "      <th>Diabetes</th>\n",
              "      <th>PhysActivity</th>\n",
              "      <th>Fruits</th>\n",
              "      <th>Veggies</th>\n",
              "      <th>HvyAlcoholConsump</th>\n",
              "      <th>AnyHealthcare</th>\n",
              "      <th>NoDocbcCost</th>\n",
              "      <th>GenHlth</th>\n",
              "      <th>MentHlth</th>\n",
              "      <th>PhysHlth</th>\n",
              "      <th>DiffWalk</th>\n",
              "      <th>Sex</th>\n",
              "      <th>Age</th>\n",
              "      <th>Education</th>\n",
              "      <th>Income</th>\n",
              "    </tr>\n",
              "  </thead>\n",
              "  <tbody>\n",
              "    <tr>\n",
              "      <th>0</th>\n",
              "      <td>0.0</td>\n",
              "      <td>1.0</td>\n",
              "      <td>1.0</td>\n",
              "      <td>1.0</td>\n",
              "      <td>40.0</td>\n",
              "      <td>1.0</td>\n",
              "      <td>0.0</td>\n",
              "      <td>0.0</td>\n",
              "      <td>0.0</td>\n",
              "      <td>0.0</td>\n",
              "      <td>1.0</td>\n",
              "      <td>0.0</td>\n",
              "      <td>1.0</td>\n",
              "      <td>0.0</td>\n",
              "      <td>5.0</td>\n",
              "      <td>18.0</td>\n",
              "      <td>15.0</td>\n",
              "      <td>1.0</td>\n",
              "      <td>0.0</td>\n",
              "      <td>9.0</td>\n",
              "      <td>4.0</td>\n",
              "      <td>3.0</td>\n",
              "    </tr>\n",
              "    <tr>\n",
              "      <th>1</th>\n",
              "      <td>0.0</td>\n",
              "      <td>0.0</td>\n",
              "      <td>0.0</td>\n",
              "      <td>0.0</td>\n",
              "      <td>25.0</td>\n",
              "      <td>1.0</td>\n",
              "      <td>0.0</td>\n",
              "      <td>0.0</td>\n",
              "      <td>1.0</td>\n",
              "      <td>0.0</td>\n",
              "      <td>0.0</td>\n",
              "      <td>0.0</td>\n",
              "      <td>0.0</td>\n",
              "      <td>1.0</td>\n",
              "      <td>3.0</td>\n",
              "      <td>0.0</td>\n",
              "      <td>0.0</td>\n",
              "      <td>0.0</td>\n",
              "      <td>0.0</td>\n",
              "      <td>7.0</td>\n",
              "      <td>6.0</td>\n",
              "      <td>1.0</td>\n",
              "    </tr>\n",
              "    <tr>\n",
              "      <th>2</th>\n",
              "      <td>0.0</td>\n",
              "      <td>1.0</td>\n",
              "      <td>1.0</td>\n",
              "      <td>1.0</td>\n",
              "      <td>28.0</td>\n",
              "      <td>0.0</td>\n",
              "      <td>0.0</td>\n",
              "      <td>0.0</td>\n",
              "      <td>0.0</td>\n",
              "      <td>1.0</td>\n",
              "      <td>0.0</td>\n",
              "      <td>0.0</td>\n",
              "      <td>1.0</td>\n",
              "      <td>1.0</td>\n",
              "      <td>5.0</td>\n",
              "      <td>30.0</td>\n",
              "      <td>30.0</td>\n",
              "      <td>1.0</td>\n",
              "      <td>0.0</td>\n",
              "      <td>9.0</td>\n",
              "      <td>4.0</td>\n",
              "      <td>8.0</td>\n",
              "    </tr>\n",
              "    <tr>\n",
              "      <th>3</th>\n",
              "      <td>0.0</td>\n",
              "      <td>1.0</td>\n",
              "      <td>0.0</td>\n",
              "      <td>1.0</td>\n",
              "      <td>27.0</td>\n",
              "      <td>0.0</td>\n",
              "      <td>0.0</td>\n",
              "      <td>0.0</td>\n",
              "      <td>1.0</td>\n",
              "      <td>1.0</td>\n",
              "      <td>1.0</td>\n",
              "      <td>0.0</td>\n",
              "      <td>1.0</td>\n",
              "      <td>0.0</td>\n",
              "      <td>2.0</td>\n",
              "      <td>0.0</td>\n",
              "      <td>0.0</td>\n",
              "      <td>0.0</td>\n",
              "      <td>0.0</td>\n",
              "      <td>11.0</td>\n",
              "      <td>3.0</td>\n",
              "      <td>6.0</td>\n",
              "    </tr>\n",
              "    <tr>\n",
              "      <th>4</th>\n",
              "      <td>0.0</td>\n",
              "      <td>1.0</td>\n",
              "      <td>1.0</td>\n",
              "      <td>1.0</td>\n",
              "      <td>24.0</td>\n",
              "      <td>0.0</td>\n",
              "      <td>0.0</td>\n",
              "      <td>0.0</td>\n",
              "      <td>1.0</td>\n",
              "      <td>1.0</td>\n",
              "      <td>1.0</td>\n",
              "      <td>0.0</td>\n",
              "      <td>1.0</td>\n",
              "      <td>0.0</td>\n",
              "      <td>2.0</td>\n",
              "      <td>3.0</td>\n",
              "      <td>0.0</td>\n",
              "      <td>0.0</td>\n",
              "      <td>0.0</td>\n",
              "      <td>11.0</td>\n",
              "      <td>5.0</td>\n",
              "      <td>4.0</td>\n",
              "    </tr>\n",
              "  </tbody>\n",
              "</table>\n",
              "</div>\n",
              "      <button class=\"colab-df-convert\" onclick=\"convertToInteractive('df-3e5ddfa8-9dfc-41cd-8d76-0e0b9fa06053')\"\n",
              "              title=\"Convert this dataframe to an interactive table.\"\n",
              "              style=\"display:none;\">\n",
              "        \n",
              "  <svg xmlns=\"http://www.w3.org/2000/svg\" height=\"24px\"viewBox=\"0 0 24 24\"\n",
              "       width=\"24px\">\n",
              "    <path d=\"M0 0h24v24H0V0z\" fill=\"none\"/>\n",
              "    <path d=\"M18.56 5.44l.94 2.06.94-2.06 2.06-.94-2.06-.94-.94-2.06-.94 2.06-2.06.94zm-11 1L8.5 8.5l.94-2.06 2.06-.94-2.06-.94L8.5 2.5l-.94 2.06-2.06.94zm10 10l.94 2.06.94-2.06 2.06-.94-2.06-.94-.94-2.06-.94 2.06-2.06.94z\"/><path d=\"M17.41 7.96l-1.37-1.37c-.4-.4-.92-.59-1.43-.59-.52 0-1.04.2-1.43.59L10.3 9.45l-7.72 7.72c-.78.78-.78 2.05 0 2.83L4 21.41c.39.39.9.59 1.41.59.51 0 1.02-.2 1.41-.59l7.78-7.78 2.81-2.81c.8-.78.8-2.07 0-2.86zM5.41 20L4 18.59l7.72-7.72 1.47 1.35L5.41 20z\"/>\n",
              "  </svg>\n",
              "      </button>\n",
              "      \n",
              "  <style>\n",
              "    .colab-df-container {\n",
              "      display:flex;\n",
              "      flex-wrap:wrap;\n",
              "      gap: 12px;\n",
              "    }\n",
              "\n",
              "    .colab-df-convert {\n",
              "      background-color: #E8F0FE;\n",
              "      border: none;\n",
              "      border-radius: 50%;\n",
              "      cursor: pointer;\n",
              "      display: none;\n",
              "      fill: #1967D2;\n",
              "      height: 32px;\n",
              "      padding: 0 0 0 0;\n",
              "      width: 32px;\n",
              "    }\n",
              "\n",
              "    .colab-df-convert:hover {\n",
              "      background-color: #E2EBFA;\n",
              "      box-shadow: 0px 1px 2px rgba(60, 64, 67, 0.3), 0px 1px 3px 1px rgba(60, 64, 67, 0.15);\n",
              "      fill: #174EA6;\n",
              "    }\n",
              "\n",
              "    [theme=dark] .colab-df-convert {\n",
              "      background-color: #3B4455;\n",
              "      fill: #D2E3FC;\n",
              "    }\n",
              "\n",
              "    [theme=dark] .colab-df-convert:hover {\n",
              "      background-color: #434B5C;\n",
              "      box-shadow: 0px 1px 3px 1px rgba(0, 0, 0, 0.15);\n",
              "      filter: drop-shadow(0px 1px 2px rgba(0, 0, 0, 0.3));\n",
              "      fill: #FFFFFF;\n",
              "    }\n",
              "  </style>\n",
              "\n",
              "      <script>\n",
              "        const buttonEl =\n",
              "          document.querySelector('#df-3e5ddfa8-9dfc-41cd-8d76-0e0b9fa06053 button.colab-df-convert');\n",
              "        buttonEl.style.display =\n",
              "          google.colab.kernel.accessAllowed ? 'block' : 'none';\n",
              "\n",
              "        async function convertToInteractive(key) {\n",
              "          const element = document.querySelector('#df-3e5ddfa8-9dfc-41cd-8d76-0e0b9fa06053');\n",
              "          const dataTable =\n",
              "            await google.colab.kernel.invokeFunction('convertToInteractive',\n",
              "                                                     [key], {});\n",
              "          if (!dataTable) return;\n",
              "\n",
              "          const docLinkHtml = 'Like what you see? Visit the ' +\n",
              "            '<a target=\"_blank\" href=https://colab.research.google.com/notebooks/data_table.ipynb>data table notebook</a>'\n",
              "            + ' to learn more about interactive tables.';\n",
              "          element.innerHTML = '';\n",
              "          dataTable['output_type'] = 'display_data';\n",
              "          await google.colab.output.renderOutput(dataTable, element);\n",
              "          const docLink = document.createElement('div');\n",
              "          docLink.innerHTML = docLinkHtml;\n",
              "          element.appendChild(docLink);\n",
              "        }\n",
              "      </script>\n",
              "    </div>\n",
              "  </div>\n",
              "  "
            ],
            "text/plain": [
              "   HeartDiseaseorAttack  HighBP  HighChol  ...   Age  Education  Income\n",
              "0                   0.0     1.0       1.0  ...   9.0        4.0     3.0\n",
              "1                   0.0     0.0       0.0  ...   7.0        6.0     1.0\n",
              "2                   0.0     1.0       1.0  ...   9.0        4.0     8.0\n",
              "3                   0.0     1.0       0.0  ...  11.0        3.0     6.0\n",
              "4                   0.0     1.0       1.0  ...  11.0        5.0     4.0\n",
              "\n",
              "[5 rows x 22 columns]"
            ]
          },
          "metadata": {},
          "execution_count": 31
        }
      ]
    },
    {
      "cell_type": "code",
      "source": [
        "df.info()"
      ],
      "metadata": {
        "colab": {
          "base_uri": "https://localhost:8080/"
        },
        "id": "6BhGrKTNyywf",
        "outputId": "40c40eb7-4d2d-4441-edf6-8c1dd94d5e38"
      },
      "execution_count": 32,
      "outputs": [
        {
          "output_type": "stream",
          "name": "stdout",
          "text": [
            "<class 'pandas.core.frame.DataFrame'>\n",
            "RangeIndex: 253680 entries, 0 to 253679\n",
            "Data columns (total 22 columns):\n",
            " #   Column                Non-Null Count   Dtype  \n",
            "---  ------                --------------   -----  \n",
            " 0   HeartDiseaseorAttack  253680 non-null  float64\n",
            " 1   HighBP                253680 non-null  float64\n",
            " 2   HighChol              253680 non-null  float64\n",
            " 3   CholCheck             253680 non-null  float64\n",
            " 4   BMI                   253680 non-null  float64\n",
            " 5   Smoker                253680 non-null  float64\n",
            " 6   Stroke                253680 non-null  float64\n",
            " 7   Diabetes              253680 non-null  float64\n",
            " 8   PhysActivity          253680 non-null  float64\n",
            " 9   Fruits                253680 non-null  float64\n",
            " 10  Veggies               253680 non-null  float64\n",
            " 11  HvyAlcoholConsump     253680 non-null  float64\n",
            " 12  AnyHealthcare         253680 non-null  float64\n",
            " 13  NoDocbcCost           253680 non-null  float64\n",
            " 14  GenHlth               253680 non-null  float64\n",
            " 15  MentHlth              253680 non-null  float64\n",
            " 16  PhysHlth              253680 non-null  float64\n",
            " 17  DiffWalk              253680 non-null  float64\n",
            " 18  Sex                   253680 non-null  float64\n",
            " 19  Age                   253680 non-null  float64\n",
            " 20  Education             253680 non-null  float64\n",
            " 21  Income                253680 non-null  float64\n",
            "dtypes: float64(22)\n",
            "memory usage: 42.6 MB\n"
          ]
        }
      ]
    },
    {
      "cell_type": "markdown",
      "source": [
        "##Pre-processing"
      ],
      "metadata": {
        "id": "g9-cLIhwzAIk"
      }
    },
    {
      "cell_type": "code",
      "source": [
        "# check for null values\n",
        "df.isna().sum()"
      ],
      "metadata": {
        "colab": {
          "base_uri": "https://localhost:8080/"
        },
        "id": "bq8Jgq0sy1Dl",
        "outputId": "32027220-0850-4a49-b317-c78338365fa5"
      },
      "execution_count": 33,
      "outputs": [
        {
          "output_type": "execute_result",
          "data": {
            "text/plain": [
              "HeartDiseaseorAttack    0\n",
              "HighBP                  0\n",
              "HighChol                0\n",
              "CholCheck               0\n",
              "BMI                     0\n",
              "Smoker                  0\n",
              "Stroke                  0\n",
              "Diabetes                0\n",
              "PhysActivity            0\n",
              "Fruits                  0\n",
              "Veggies                 0\n",
              "HvyAlcoholConsump       0\n",
              "AnyHealthcare           0\n",
              "NoDocbcCost             0\n",
              "GenHlth                 0\n",
              "MentHlth                0\n",
              "PhysHlth                0\n",
              "DiffWalk                0\n",
              "Sex                     0\n",
              "Age                     0\n",
              "Education               0\n",
              "Income                  0\n",
              "dtype: int64"
            ]
          },
          "metadata": {},
          "execution_count": 33
        }
      ]
    },
    {
      "cell_type": "markdown",
      "source": [
        "There are no null values to impute."
      ],
      "metadata": {
        "id": "gjfXyA_mzSM4"
      }
    },
    {
      "cell_type": "code",
      "source": [
        "# check for duplicates\n",
        "df.duplicated().any()"
      ],
      "metadata": {
        "colab": {
          "base_uri": "https://localhost:8080/"
        },
        "id": "JX2RGU2dzJjG",
        "outputId": "dea7046c-dd21-4563-e795-8f465f8c1593"
      },
      "execution_count": 34,
      "outputs": [
        {
          "output_type": "execute_result",
          "data": {
            "text/plain": [
              "True"
            ]
          },
          "metadata": {},
          "execution_count": 34
        }
      ]
    },
    {
      "cell_type": "markdown",
      "source": [
        "There are duplicated values within our dataset. We will drop these duplicates in the following code."
      ],
      "metadata": {
        "id": "TP9YLoeszU72"
      }
    },
    {
      "cell_type": "code",
      "source": [
        "# drop duplicates\n",
        "df.drop_duplicates(inplace = True)"
      ],
      "metadata": {
        "id": "KzZQ4_sezPXo"
      },
      "execution_count": 35,
      "outputs": []
    },
    {
      "cell_type": "code",
      "source": [
        "# confirm no duplicates\n",
        "df.duplicated().any()"
      ],
      "metadata": {
        "colab": {
          "base_uri": "https://localhost:8080/"
        },
        "id": "QYxdIMi_zkoF",
        "outputId": "0b1cfc52-6665-4037-eb34-d9be4e38a7f4"
      },
      "execution_count": 36,
      "outputs": [
        {
          "output_type": "execute_result",
          "data": {
            "text/plain": [
              "False"
            ]
          },
          "metadata": {},
          "execution_count": 36
        }
      ]
    },
    {
      "cell_type": "markdown",
      "source": [
        "##Model Preparation"
      ],
      "metadata": {
        "id": "l_3aYWgWztDO"
      }
    },
    {
      "cell_type": "code",
      "source": [
        "# check target balance\n",
        "df['HeartDiseaseorAttack'].value_counts(normalize = 'true')"
      ],
      "metadata": {
        "colab": {
          "base_uri": "https://localhost:8080/"
        },
        "id": "leSbSjp8zo8O",
        "outputId": "c086c3f4-01c4-4edd-d569-4b873b8aa4bd"
      },
      "execution_count": 37,
      "outputs": [
        {
          "output_type": "execute_result",
          "data": {
            "text/plain": [
              "0.0    0.896784\n",
              "1.0    0.103216\n",
              "Name: HeartDiseaseorAttack, dtype: float64"
            ]
          },
          "metadata": {},
          "execution_count": 37
        }
      ]
    },
    {
      "cell_type": "markdown",
      "source": [
        "Our target is very imbalanced. After our train/test split, we will address this issue using a random undersampler."
      ],
      "metadata": {
        "id": "OfuSBNjC1uhB"
      }
    },
    {
      "cell_type": "code",
      "source": [
        "# define features and target\n",
        "X = df.drop(columns = 'HeartDiseaseorAttack')\n",
        "y = df['HeartDiseaseorAttack']\n",
        "\n",
        "# train test split\n",
        "X_train, X_test, y_train, y_test = train_test_split(X, y, random_state = 42)"
      ],
      "metadata": {
        "id": "JyfSPko2z7t7"
      },
      "execution_count": 38,
      "outputs": []
    },
    {
      "cell_type": "code",
      "source": [
        "# instantiate scaler\n",
        "scaler = StandardScaler()\n",
        "\n",
        "# apply scaler to features\n",
        "train_scale = scaler.fit_transform(X_train)\n",
        "test_scale = scaler.transform(X_test)"
      ],
      "metadata": {
        "id": "STbVr18E30W8"
      },
      "execution_count": 39,
      "outputs": []
    },
    {
      "cell_type": "markdown",
      "source": [
        "The following code will use RandomUnderSampler to address our class imbalance."
      ],
      "metadata": {
        "id": "n2SEA52M245d"
      }
    },
    {
      "cell_type": "code",
      "source": [
        "# import imbalanced-learn\n",
        "from imblearn.under_sampling import RandomUnderSampler\n",
        "\n",
        "# utilize RandomUnderSampler to build usable training data\n",
        "rus = RandomUnderSampler(random_state = 42, replacement = True)\n",
        "X_rus, y_rus = rus.fit_resample(train_scale, y_train)"
      ],
      "metadata": {
        "id": "o89XgkJX2f8b"
      },
      "execution_count": 40,
      "outputs": []
    },
    {
      "cell_type": "code",
      "source": [
        "print('Original Dataset Shape:\\n', y_train.value_counts())\n",
        "print('\\nResampled Dataset Shape:\\n', y_rus.value_counts())"
      ],
      "metadata": {
        "colab": {
          "base_uri": "https://localhost:8080/"
        },
        "id": "8bszinjO2wzp",
        "outputId": "ccddd43e-a0d9-43ec-e80b-2f8beabc59ff"
      },
      "execution_count": 41,
      "outputs": [
        {
          "output_type": "stream",
          "name": "stdout",
          "text": [
            "Original Dataset Shape:\n",
            " 0.0    154552\n",
            "1.0     17783\n",
            "Name: HeartDiseaseorAttack, dtype: int64\n",
            "\n",
            "Resampled Dataset Shape:\n",
            " 0.0    17783\n",
            "1.0    17783\n",
            "Name: HeartDiseaseorAttack, dtype: int64\n"
          ]
        }
      ]
    },
    {
      "cell_type": "markdown",
      "source": [
        "We see above, that we now have a training dataset of perfectly balanced data."
      ],
      "metadata": {
        "id": "OOR0Ue-u3DvF"
      }
    },
    {
      "cell_type": "markdown",
      "source": [
        "##Model Development"
      ],
      "metadata": {
        "id": "JqiL9JDC4W7l"
      }
    },
    {
      "cell_type": "code",
      "source": [
        "# create function to evaluate model\n",
        "def plot_history(history, metric=None):\n",
        "  \"\"\"plot loss and passed metric.  metric is passed as string and must match 'metric'\n",
        "  argument in the compile step\"\"\"\n",
        "  fig, axes = plt.subplots(2,1, figsize = (5,10))\n",
        "  axes[0].plot(history.history['loss'], label = \"train\")\n",
        "  axes[0].plot(history.history['val_loss'], label='test')\n",
        "  axes[0].set_title('Loss')\n",
        "  axes[0].legend()\n",
        "  if metric:\n",
        "    axes[1].plot(history.history[metric], label = 'train')\n",
        "    axes[1].plot(history.history['val_' + metric], label = 'test')\n",
        "    axes[1].set_title(metric)\n",
        "    axes[1].legend()\n",
        "\n",
        "  plt.show()"
      ],
      "metadata": {
        "id": "N2_Vgf0E20Yb"
      },
      "execution_count": 42,
      "outputs": []
    },
    {
      "cell_type": "code",
      "source": [
        "# get shape of training data\n",
        "X_train.shape"
      ],
      "metadata": {
        "colab": {
          "base_uri": "https://localhost:8080/"
        },
        "id": "cFtep-Mk4oNm",
        "outputId": "1c7e388f-5578-4f53-fb80-44f5351001c8"
      },
      "execution_count": 43,
      "outputs": [
        {
          "output_type": "execute_result",
          "data": {
            "text/plain": [
              "(172335, 21)"
            ]
          },
          "metadata": {},
          "execution_count": 43
        }
      ]
    },
    {
      "cell_type": "code",
      "source": [
        "# Create model\n",
        "model1 = Sequential()\n",
        "\n",
        "# add hidden layers\n",
        "model1.add(Dense(20, activation = 'relu', input_dim = X_train.shape[1]))\n",
        "model1.add(Dropout(.1))\n",
        "model1.add(Dense(10, activation = 'relu'))\n",
        "model1.add(Dropout(.1))\n",
        "model1.add(Dense(1, activation = 'sigmoid'))"
      ],
      "metadata": {
        "id": "N6FyTY1B44p7"
      },
      "execution_count": 48,
      "outputs": []
    },
    {
      "cell_type": "code",
      "source": [
        "# compile model\n",
        "model1.compile(optimizer = 'adam', loss = 'bce', metrics = ['acc'])"
      ],
      "metadata": {
        "id": "v-yWLDYQ6F3J"
      },
      "execution_count": 49,
      "outputs": []
    },
    {
      "cell_type": "code",
      "source": [
        "# fit model\n",
        "early_stopping = EarlyStopping(patience = 10)\n",
        "history1 = model1.fit(X_rus, y_rus,\n",
        "                    validation_data = (test_scale, y_test),\n",
        "                    epochs = 250,\n",
        "                    callbacks = [early_stopping])"
      ],
      "metadata": {
        "colab": {
          "base_uri": "https://localhost:8080/"
        },
        "id": "ekYPtPRM6Kl2",
        "outputId": "4260bce3-4de3-4815-859b-26e97ea80d57"
      },
      "execution_count": 50,
      "outputs": [
        {
          "output_type": "stream",
          "name": "stdout",
          "text": [
            "Epoch 1/250\n",
            "1112/1112 [==============================] - 5s 4ms/step - loss: 0.5388 - acc: 0.7256 - val_loss: 0.5057 - val_acc: 0.7073\n",
            "Epoch 2/250\n",
            "1112/1112 [==============================] - 5s 4ms/step - loss: 0.5109 - acc: 0.7519 - val_loss: 0.5022 - val_acc: 0.7164\n",
            "Epoch 3/250\n",
            "1112/1112 [==============================] - 5s 4ms/step - loss: 0.5064 - acc: 0.7555 - val_loss: 0.5218 - val_acc: 0.7097\n",
            "Epoch 4/250\n",
            "1112/1112 [==============================] - 5s 4ms/step - loss: 0.5038 - acc: 0.7568 - val_loss: 0.5190 - val_acc: 0.7145\n",
            "Epoch 5/250\n",
            "1112/1112 [==============================] - 4s 4ms/step - loss: 0.5040 - acc: 0.7589 - val_loss: 0.4784 - val_acc: 0.7306\n",
            "Epoch 6/250\n",
            "1112/1112 [==============================] - 5s 4ms/step - loss: 0.5008 - acc: 0.7593 - val_loss: 0.4983 - val_acc: 0.7209\n",
            "Epoch 7/250\n",
            "1112/1112 [==============================] - 4s 4ms/step - loss: 0.5008 - acc: 0.7595 - val_loss: 0.4964 - val_acc: 0.7196\n",
            "Epoch 8/250\n",
            "1112/1112 [==============================] - 5s 4ms/step - loss: 0.5003 - acc: 0.7604 - val_loss: 0.4858 - val_acc: 0.7300\n",
            "Epoch 9/250\n",
            "1112/1112 [==============================] - 5s 4ms/step - loss: 0.4989 - acc: 0.7617 - val_loss: 0.4991 - val_acc: 0.7260\n",
            "Epoch 10/250\n",
            "1112/1112 [==============================] - 5s 4ms/step - loss: 0.4987 - acc: 0.7609 - val_loss: 0.4957 - val_acc: 0.7277\n",
            "Epoch 11/250\n",
            "1112/1112 [==============================] - 5s 4ms/step - loss: 0.4985 - acc: 0.7615 - val_loss: 0.4882 - val_acc: 0.7262\n",
            "Epoch 12/250\n",
            "1112/1112 [==============================] - 4s 4ms/step - loss: 0.4984 - acc: 0.7624 - val_loss: 0.5081 - val_acc: 0.7223\n",
            "Epoch 13/250\n",
            "1112/1112 [==============================] - 4s 4ms/step - loss: 0.4980 - acc: 0.7619 - val_loss: 0.4910 - val_acc: 0.7250\n",
            "Epoch 14/250\n",
            "1112/1112 [==============================] - 4s 4ms/step - loss: 0.4979 - acc: 0.7617 - val_loss: 0.5028 - val_acc: 0.7188\n",
            "Epoch 15/250\n",
            "1112/1112 [==============================] - 4s 4ms/step - loss: 0.4962 - acc: 0.7624 - val_loss: 0.5087 - val_acc: 0.7179\n"
          ]
        }
      ]
    },
    {
      "cell_type": "code",
      "source": [
        "plot_history(history1, 'acc')"
      ],
      "metadata": {
        "colab": {
          "base_uri": "https://localhost:8080/",
          "height": 607
        },
        "id": "TN32BvUO6v6R",
        "outputId": "3e30f735-c18c-4f3e-ffb8-6171bd281779"
      },
      "execution_count": 51,
      "outputs": [
        {
          "output_type": "display_data",
          "data": {
            "image/png": "[encoded data removed]",
            "text/plain": [
              "<Figure size 360x720 with 2 Axes>"
            ]
          },
          "metadata": {
            "needs_background": "light"
          }
        }
      ]
    }
  ]
}