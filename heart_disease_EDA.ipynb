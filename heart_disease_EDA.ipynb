{
  "nbformat": 4,
  "nbformat_minor": 0,
  "metadata": {
    "colab": {
      "name": "heart_disease_EDA.ipynb",
      "provenance": [],
      "authorship_tag": "ABX9TyODkwgMblwT7OZFpikwCzou"
    },
    "kernelspec": {
      "name": "python3",
      "display_name": "Python 3"
    },
    "language_info": {
      "name": "python"
    }
  },
  "cells": [
    {
      "cell_type": "markdown",
      "source": [
        "##Introduction\n",
        "\n",
        "This will be an EDA with modeling designed to predict whether individuals with certain risk factors will experience heart disease or heart attacks. This can be utilized by medical professionals in efforts to intervene before individuals with high risk actually experience these cardiac events.  A proactive individual with reasonably low risk could use this model to minimize their risk of cardiac events."
      ],
      "metadata": {
        "id": "bJZNTRJ6DMfc"
      }
    },
    {
      "cell_type": "code",
      "execution_count": null,
      "metadata": {
        "id": "hg7-nVofCDny",
        "colab": {
          "base_uri": "https://localhost:8080/"
        },
        "outputId": "a664d388-762a-4d0c-8110-df1db281eb6f"
      },
      "outputs": [
        {
          "output_type": "stream",
          "name": "stdout",
          "text": [
            "Drive already mounted at /content/drive; to attempt to forcibly remount, call drive.mount(\"/content/drive\", force_remount=True).\n"
          ]
        }
      ],
      "source": [
        "from google.colab import drive\n",
        "drive.mount('/content/drive')"
      ]
    },
    {
      "cell_type": "markdown",
      "source": [
        "##Import Libraries\n",
        "First, we will need to import the Python Libraries we will use in the data exploration and modeling."
      ],
      "metadata": {
        "id": "lq8Ok1wRFS4c"
      }
    },
    {
      "cell_type": "code",
      "source": [
        "# import libraries for EDA\n",
        "import pandas as pd\n",
        "import numpy as np\n",
        "import matplotlib.pyplot as plt\n",
        "import seaborn as sns"
      ],
      "metadata": {
        "id": "ghYirP_HCyfn"
      },
      "execution_count": null,
      "outputs": []
    },
    {
      "cell_type": "markdown",
      "source": [
        "##Load Data\n",
        "\n",
        "Next, we will need to load the data. This dataset is large, so we will only be using a portion of the dataset in model development. This will be done after cleaning."
      ],
      "metadata": {
        "id": "K7bi2OL8F8Gi"
      }
    },
    {
      "cell_type": "code",
      "source": [
        "df = pd.read_csv('/content/drive/MyDrive/Coding Dojo/Raw Data/heart_disease_health_indicators_BRFSS2015.csv', nrows = 100000)\n",
        "df.head()"
      ],
      "metadata": {
        "id": "I3sm8Zx9F5GL",
        "colab": {
          "base_uri": "https://localhost:8080/",
          "height": 270
        },
        "outputId": "741f3d85-9b5f-485c-e1b9-0ff07c4d61ea"
      },
      "execution_count": null,
      "outputs": [
        {
          "output_type": "execute_result",
          "data": {
            "text/html": [
              "\n",
              "  <div id=\"df-9029387c-eb00-4e9f-abaf-ceee83ad155a\">\n",
              "    <div class=\"colab-df-container\">\n",
              "      <div>\n",
              "<style scoped>\n",
              "    .dataframe tbody tr th:only-of-type {\n",
              "        vertical-align: middle;\n",
              "    }\n",
              "\n",
              "    .dataframe tbody tr th {\n",
              "        vertical-align: top;\n",
              "    }\n",
              "\n",
              "    .dataframe thead th {\n",
              "        text-align: right;\n",
              "    }\n",
              "</style>\n",
              "<table border=\"1\" class=\"dataframe\">\n",
              "  <thead>\n",
              "    <tr style=\"text-align: right;\">\n",
              "      <th></th>\n",
              "      <th>HeartDiseaseorAttack</th>\n",
              "      <th>HighBP</th>\n",
              "      <th>HighChol</th>\n",
              "      <th>CholCheck</th>\n",
              "      <th>BMI</th>\n",
              "      <th>Smoker</th>\n",
              "      <th>Stroke</th>\n",
              "      <th>Diabetes</th>\n",
              "      <th>PhysActivity</th>\n",
              "      <th>Fruits</th>\n",
              "      <th>Veggies</th>\n",
              "      <th>HvyAlcoholConsump</th>\n",
              "      <th>AnyHealthcare</th>\n",
              "      <th>NoDocbcCost</th>\n",
              "      <th>GenHlth</th>\n",
              "      <th>MentHlth</th>\n",
              "      <th>PhysHlth</th>\n",
              "      <th>DiffWalk</th>\n",
              "      <th>Sex</th>\n",
              "      <th>Age</th>\n",
              "      <th>Education</th>\n",
              "      <th>Income</th>\n",
              "    </tr>\n",
              "  </thead>\n",
              "  <tbody>\n",
              "    <tr>\n",
              "      <th>0</th>\n",
              "      <td>0.0</td>\n",
              "      <td>1.0</td>\n",
              "      <td>1.0</td>\n",
              "      <td>1.0</td>\n",
              "      <td>40.0</td>\n",
              "      <td>1.0</td>\n",
              "      <td>0.0</td>\n",
              "      <td>0.0</td>\n",
              "      <td>0.0</td>\n",
              "      <td>0.0</td>\n",
              "      <td>1.0</td>\n",
              "      <td>0.0</td>\n",
              "      <td>1.0</td>\n",
              "      <td>0.0</td>\n",
              "      <td>5.0</td>\n",
              "      <td>18.0</td>\n",
              "      <td>15.0</td>\n",
              "      <td>1.0</td>\n",
              "      <td>0.0</td>\n",
              "      <td>9.0</td>\n",
              "      <td>4.0</td>\n",
              "      <td>3.0</td>\n",
              "    </tr>\n",
              "    <tr>\n",
              "      <th>1</th>\n",
              "      <td>0.0</td>\n",
              "      <td>0.0</td>\n",
              "      <td>0.0</td>\n",
              "      <td>0.0</td>\n",
              "      <td>25.0</td>\n",
              "      <td>1.0</td>\n",
              "      <td>0.0</td>\n",
              "      <td>0.0</td>\n",
              "      <td>1.0</td>\n",
              "      <td>0.0</td>\n",
              "      <td>0.0</td>\n",
              "      <td>0.0</td>\n",
              "      <td>0.0</td>\n",
              "      <td>1.0</td>\n",
              "      <td>3.0</td>\n",
              "      <td>0.0</td>\n",
              "      <td>0.0</td>\n",
              "      <td>0.0</td>\n",
              "      <td>0.0</td>\n",
              "      <td>7.0</td>\n",
              "      <td>6.0</td>\n",
              "      <td>1.0</td>\n",
              "    </tr>\n",
              "    <tr>\n",
              "      <th>2</th>\n",
              "      <td>0.0</td>\n",
              "      <td>1.0</td>\n",
              "      <td>1.0</td>\n",
              "      <td>1.0</td>\n",
              "      <td>28.0</td>\n",
              "      <td>0.0</td>\n",
              "      <td>0.0</td>\n",
              "      <td>0.0</td>\n",
              "      <td>0.0</td>\n",
              "      <td>1.0</td>\n",
              "      <td>0.0</td>\n",
              "      <td>0.0</td>\n",
              "      <td>1.0</td>\n",
              "      <td>1.0</td>\n",
              "      <td>5.0</td>\n",
              "      <td>30.0</td>\n",
              "      <td>30.0</td>\n",
              "      <td>1.0</td>\n",
              "      <td>0.0</td>\n",
              "      <td>9.0</td>\n",
              "      <td>4.0</td>\n",
              "      <td>8.0</td>\n",
              "    </tr>\n",
              "    <tr>\n",
              "      <th>3</th>\n",
              "      <td>0.0</td>\n",
              "      <td>1.0</td>\n",
              "      <td>0.0</td>\n",
              "      <td>1.0</td>\n",
              "      <td>27.0</td>\n",
              "      <td>0.0</td>\n",
              "      <td>0.0</td>\n",
              "      <td>0.0</td>\n",
              "      <td>1.0</td>\n",
              "      <td>1.0</td>\n",
              "      <td>1.0</td>\n",
              "      <td>0.0</td>\n",
              "      <td>1.0</td>\n",
              "      <td>0.0</td>\n",
              "      <td>2.0</td>\n",
              "      <td>0.0</td>\n",
              "      <td>0.0</td>\n",
              "      <td>0.0</td>\n",
              "      <td>0.0</td>\n",
              "      <td>11.0</td>\n",
              "      <td>3.0</td>\n",
              "      <td>6.0</td>\n",
              "    </tr>\n",
              "    <tr>\n",
              "      <th>4</th>\n",
              "      <td>0.0</td>\n",
              "      <td>1.0</td>\n",
              "      <td>1.0</td>\n",
              "      <td>1.0</td>\n",
              "      <td>24.0</td>\n",
              "      <td>0.0</td>\n",
              "      <td>0.0</td>\n",
              "      <td>0.0</td>\n",
              "      <td>1.0</td>\n",
              "      <td>1.0</td>\n",
              "      <td>1.0</td>\n",
              "      <td>0.0</td>\n",
              "      <td>1.0</td>\n",
              "      <td>0.0</td>\n",
              "      <td>2.0</td>\n",
              "      <td>3.0</td>\n",
              "      <td>0.0</td>\n",
              "      <td>0.0</td>\n",
              "      <td>0.0</td>\n",
              "      <td>11.0</td>\n",
              "      <td>5.0</td>\n",
              "      <td>4.0</td>\n",
              "    </tr>\n",
              "  </tbody>\n",
              "</table>\n",
              "</div>\n",
              "      <button class=\"colab-df-convert\" onclick=\"convertToInteractive('df-9029387c-eb00-4e9f-abaf-ceee83ad155a')\"\n",
              "              title=\"Convert this dataframe to an interactive table.\"\n",
              "              style=\"display:none;\">\n",
              "        \n",
              "  <svg xmlns=\"http://www.w3.org/2000/svg\" height=\"24px\"viewBox=\"0 0 24 24\"\n",
              "       width=\"24px\">\n",
              "    <path d=\"M0 0h24v24H0V0z\" fill=\"none\"/>\n",
              "    <path d=\"M18.56 5.44l.94 2.06.94-2.06 2.06-.94-2.06-.94-.94-2.06-.94 2.06-2.06.94zm-11 1L8.5 8.5l.94-2.06 2.06-.94-2.06-.94L8.5 2.5l-.94 2.06-2.06.94zm10 10l.94 2.06.94-2.06 2.06-.94-2.06-.94-.94-2.06-.94 2.06-2.06.94z\"/><path d=\"M17.41 7.96l-1.37-1.37c-.4-.4-.92-.59-1.43-.59-.52 0-1.04.2-1.43.59L10.3 9.45l-7.72 7.72c-.78.78-.78 2.05 0 2.83L4 21.41c.39.39.9.59 1.41.59.51 0 1.02-.2 1.41-.59l7.78-7.78 2.81-2.81c.8-.78.8-2.07 0-2.86zM5.41 20L4 18.59l7.72-7.72 1.47 1.35L5.41 20z\"/>\n",
              "  </svg>\n",
              "      </button>\n",
              "      \n",
              "  <style>\n",
              "    .colab-df-container {\n",
              "      display:flex;\n",
              "      flex-wrap:wrap;\n",
              "      gap: 12px;\n",
              "    }\n",
              "\n",
              "    .colab-df-convert {\n",
              "      background-color: #E8F0FE;\n",
              "      border: none;\n",
              "      border-radius: 50%;\n",
              "      cursor: pointer;\n",
              "      display: none;\n",
              "      fill: #1967D2;\n",
              "      height: 32px;\n",
              "      padding: 0 0 0 0;\n",
              "      width: 32px;\n",
              "    }\n",
              "\n",
              "    .colab-df-convert:hover {\n",
              "      background-color: #E2EBFA;\n",
              "      box-shadow: 0px 1px 2px rgba(60, 64, 67, 0.3), 0px 1px 3px 1px rgba(60, 64, 67, 0.15);\n",
              "      fill: #174EA6;\n",
              "    }\n",
              "\n",
              "    [theme=dark] .colab-df-convert {\n",
              "      background-color: #3B4455;\n",
              "      fill: #D2E3FC;\n",
              "    }\n",
              "\n",
              "    [theme=dark] .colab-df-convert:hover {\n",
              "      background-color: #434B5C;\n",
              "      box-shadow: 0px 1px 3px 1px rgba(0, 0, 0, 0.15);\n",
              "      filter: drop-shadow(0px 1px 2px rgba(0, 0, 0, 0.3));\n",
              "      fill: #FFFFFF;\n",
              "    }\n",
              "  </style>\n",
              "\n",
              "      <script>\n",
              "        const buttonEl =\n",
              "          document.querySelector('#df-9029387c-eb00-4e9f-abaf-ceee83ad155a button.colab-df-convert');\n",
              "        buttonEl.style.display =\n",
              "          google.colab.kernel.accessAllowed ? 'block' : 'none';\n",
              "\n",
              "        async function convertToInteractive(key) {\n",
              "          const element = document.querySelector('#df-9029387c-eb00-4e9f-abaf-ceee83ad155a');\n",
              "          const dataTable =\n",
              "            await google.colab.kernel.invokeFunction('convertToInteractive',\n",
              "                                                     [key], {});\n",
              "          if (!dataTable) return;\n",
              "\n",
              "          const docLinkHtml = 'Like what you see? Visit the ' +\n",
              "            '<a target=\"_blank\" href=https://colab.research.google.com/notebooks/data_table.ipynb>data table notebook</a>'\n",
              "            + ' to learn more about interactive tables.';\n",
              "          element.innerHTML = '';\n",
              "          dataTable['output_type'] = 'display_data';\n",
              "          await google.colab.output.renderOutput(dataTable, element);\n",
              "          const docLink = document.createElement('div');\n",
              "          docLink.innerHTML = docLinkHtml;\n",
              "          element.appendChild(docLink);\n",
              "        }\n",
              "      </script>\n",
              "    </div>\n",
              "  </div>\n",
              "  "
            ],
            "text/plain": [
              "   HeartDiseaseorAttack  HighBP  HighChol  ...   Age  Education  Income\n",
              "0                   0.0     1.0       1.0  ...   9.0        4.0     3.0\n",
              "1                   0.0     0.0       0.0  ...   7.0        6.0     1.0\n",
              "2                   0.0     1.0       1.0  ...   9.0        4.0     8.0\n",
              "3                   0.0     1.0       0.0  ...  11.0        3.0     6.0\n",
              "4                   0.0     1.0       1.0  ...  11.0        5.0     4.0\n",
              "\n",
              "[5 rows x 22 columns]"
            ]
          },
          "metadata": {},
          "execution_count": 49
        }
      ]
    },
    {
      "cell_type": "code",
      "source": [
        "df.info()"
      ],
      "metadata": {
        "id": "d7SXCKyZIAQn",
        "colab": {
          "base_uri": "https://localhost:8080/"
        },
        "outputId": "ae1b68ff-5dcb-494c-ff13-e566e225d3c9"
      },
      "execution_count": null,
      "outputs": [
        {
          "output_type": "stream",
          "name": "stdout",
          "text": [
            "<class 'pandas.core.frame.DataFrame'>\n",
            "RangeIndex: 100000 entries, 0 to 99999\n",
            "Data columns (total 22 columns):\n",
            " #   Column                Non-Null Count   Dtype  \n",
            "---  ------                --------------   -----  \n",
            " 0   HeartDiseaseorAttack  100000 non-null  float64\n",
            " 1   HighBP                100000 non-null  float64\n",
            " 2   HighChol              100000 non-null  float64\n",
            " 3   CholCheck             100000 non-null  float64\n",
            " 4   BMI                   100000 non-null  float64\n",
            " 5   Smoker                100000 non-null  float64\n",
            " 6   Stroke                100000 non-null  float64\n",
            " 7   Diabetes              100000 non-null  float64\n",
            " 8   PhysActivity          100000 non-null  float64\n",
            " 9   Fruits                100000 non-null  float64\n",
            " 10  Veggies               100000 non-null  float64\n",
            " 11  HvyAlcoholConsump     100000 non-null  float64\n",
            " 12  AnyHealthcare         100000 non-null  float64\n",
            " 13  NoDocbcCost           100000 non-null  float64\n",
            " 14  GenHlth               100000 non-null  float64\n",
            " 15  MentHlth              100000 non-null  float64\n",
            " 16  PhysHlth              100000 non-null  float64\n",
            " 17  DiffWalk              100000 non-null  float64\n",
            " 18  Sex                   100000 non-null  float64\n",
            " 19  Age                   100000 non-null  float64\n",
            " 20  Education             100000 non-null  float64\n",
            " 21  Income                100000 non-null  float64\n",
            "dtypes: float64(22)\n",
            "memory usage: 16.8 MB\n"
          ]
        }
      ]
    },
    {
      "cell_type": "code",
      "source": [
        "df.shape"
      ],
      "metadata": {
        "colab": {
          "base_uri": "https://localhost:8080/"
        },
        "id": "Ms9ko32CNsgY",
        "outputId": "2f327995-8968-48c2-d842-dd509b55e584"
      },
      "execution_count": null,
      "outputs": [
        {
          "output_type": "execute_result",
          "data": {
            "text/plain": [
              "(100000, 22)"
            ]
          },
          "metadata": {},
          "execution_count": 51
        }
      ]
    },
    {
      "cell_type": "markdown",
      "source": [
        "##Data Cleaning\n",
        "Now that the data is properly loaded, we will begin cleaning it of null values, duplicated rows, missing values, or other inconsistencies that will decrease the effectiveness of the model."
      ],
      "metadata": {
        "id": "QEASgFqELT53"
      }
    },
    {
      "cell_type": "markdown",
      "source": [
        "Each of these columns are valid contributors to the model, therefore we will not drop any columns."
      ],
      "metadata": {
        "id": "zABgrVnAL52R"
      }
    },
    {
      "cell_type": "code",
      "source": [
        "# check for null values\n",
        "df.isna().sum()"
      ],
      "metadata": {
        "id": "Lh59ZjBdK-rE",
        "colab": {
          "base_uri": "https://localhost:8080/"
        },
        "outputId": "e6c7a351-9a16-4012-946a-caec421d94ee"
      },
      "execution_count": null,
      "outputs": [
        {
          "output_type": "execute_result",
          "data": {
            "text/plain": [
              "HeartDiseaseorAttack    0\n",
              "HighBP                  0\n",
              "HighChol                0\n",
              "CholCheck               0\n",
              "BMI                     0\n",
              "Smoker                  0\n",
              "Stroke                  0\n",
              "Diabetes                0\n",
              "PhysActivity            0\n",
              "Fruits                  0\n",
              "Veggies                 0\n",
              "HvyAlcoholConsump       0\n",
              "AnyHealthcare           0\n",
              "NoDocbcCost             0\n",
              "GenHlth                 0\n",
              "MentHlth                0\n",
              "PhysHlth                0\n",
              "DiffWalk                0\n",
              "Sex                     0\n",
              "Age                     0\n",
              "Education               0\n",
              "Income                  0\n",
              "dtype: int64"
            ]
          },
          "metadata": {},
          "execution_count": 52
        }
      ]
    },
    {
      "cell_type": "markdown",
      "source": [
        "There are no null values within the dataset."
      ],
      "metadata": {
        "id": "v-9RfG5tMxlN"
      }
    },
    {
      "cell_type": "code",
      "source": [
        "# check for duplicated rows\n",
        "df.duplicated().any()"
      ],
      "metadata": {
        "id": "rSyyXoxgMJF9",
        "colab": {
          "base_uri": "https://localhost:8080/"
        },
        "outputId": "ff4da81b-26e2-497e-c72e-ed40d9520b7b"
      },
      "execution_count": null,
      "outputs": [
        {
          "output_type": "execute_result",
          "data": {
            "text/plain": [
              "True"
            ]
          },
          "metadata": {},
          "execution_count": 53
        }
      ]
    },
    {
      "cell_type": "code",
      "source": [
        "df.duplicated().sum()"
      ],
      "metadata": {
        "colab": {
          "base_uri": "https://localhost:8080/"
        },
        "id": "9fKAOW8MZWvB",
        "outputId": "d8a4642d-81dd-40cd-da7e-0f511349c337"
      },
      "execution_count": null,
      "outputs": [
        {
          "output_type": "execute_result",
          "data": {
            "text/plain": [
              "6067"
            ]
          },
          "metadata": {},
          "execution_count": 54
        }
      ]
    },
    {
      "cell_type": "markdown",
      "source": [
        "There are 6067 duplicated rows within the dataset. These will need to be dealt with."
      ],
      "metadata": {
        "id": "gto5JLOgM1eZ"
      }
    },
    {
      "cell_type": "code",
      "source": [
        "# drop duplicated rows\n",
        "df.drop_duplicates(keep = 'first', inplace = True)"
      ],
      "metadata": {
        "id": "y-EnlK9pMSgm"
      },
      "execution_count": null,
      "outputs": []
    },
    {
      "cell_type": "markdown",
      "source": [
        "The above code will drop the duplicated rows, while keeping 1 instance from each."
      ],
      "metadata": {
        "id": "Qb4rasNcM-TK"
      }
    },
    {
      "cell_type": "code",
      "source": [
        "# confirm duplicated rows dropped\n",
        "df.duplicated().any()"
      ],
      "metadata": {
        "id": "rPgGkoAtMrSO",
        "colab": {
          "base_uri": "https://localhost:8080/"
        },
        "outputId": "e46b5595-cf44-4003-eeb0-32fdc0a2d158"
      },
      "execution_count": null,
      "outputs": [
        {
          "output_type": "execute_result",
          "data": {
            "text/plain": [
              "False"
            ]
          },
          "metadata": {},
          "execution_count": 9
        }
      ]
    },
    {
      "cell_type": "code",
      "source": [
        "# check for outliers or other unexpected values\n",
        "df.describe()"
      ],
      "metadata": {
        "id": "myHVdVLbNMNk",
        "colab": {
          "base_uri": "https://localhost:8080/",
          "height": 364
        },
        "outputId": "c06ab4b3-9c04-4314-fa94-3a270b8bfe3e"
      },
      "execution_count": null,
      "outputs": [
        {
          "output_type": "execute_result",
          "data": {
            "text/html": [
              "\n",
              "  <div id=\"df-944ac85c-a541-419b-9643-da41af05ccc1\">\n",
              "    <div class=\"colab-df-container\">\n",
              "      <div>\n",
              "<style scoped>\n",
              "    .dataframe tbody tr th:only-of-type {\n",
              "        vertical-align: middle;\n",
              "    }\n",
              "\n",
              "    .dataframe tbody tr th {\n",
              "        vertical-align: top;\n",
              "    }\n",
              "\n",
              "    .dataframe thead th {\n",
              "        text-align: right;\n",
              "    }\n",
              "</style>\n",
              "<table border=\"1\" class=\"dataframe\">\n",
              "  <thead>\n",
              "    <tr style=\"text-align: right;\">\n",
              "      <th></th>\n",
              "      <th>HeartDiseaseorAttack</th>\n",
              "      <th>HighBP</th>\n",
              "      <th>HighChol</th>\n",
              "      <th>CholCheck</th>\n",
              "      <th>BMI</th>\n",
              "      <th>Smoker</th>\n",
              "      <th>Stroke</th>\n",
              "      <th>Diabetes</th>\n",
              "      <th>PhysActivity</th>\n",
              "      <th>Fruits</th>\n",
              "      <th>Veggies</th>\n",
              "      <th>HvyAlcoholConsump</th>\n",
              "      <th>AnyHealthcare</th>\n",
              "      <th>NoDocbcCost</th>\n",
              "      <th>GenHlth</th>\n",
              "      <th>MentHlth</th>\n",
              "      <th>PhysHlth</th>\n",
              "      <th>DiffWalk</th>\n",
              "      <th>Sex</th>\n",
              "      <th>Age</th>\n",
              "      <th>Education</th>\n",
              "      <th>Income</th>\n",
              "    </tr>\n",
              "  </thead>\n",
              "  <tbody>\n",
              "    <tr>\n",
              "      <th>count</th>\n",
              "      <td>93933.000000</td>\n",
              "      <td>93933.000000</td>\n",
              "      <td>93933.000000</td>\n",
              "      <td>93933.000000</td>\n",
              "      <td>93933.000000</td>\n",
              "      <td>93933.000000</td>\n",
              "      <td>93933.000000</td>\n",
              "      <td>93933.000000</td>\n",
              "      <td>93933.000000</td>\n",
              "      <td>93933.000000</td>\n",
              "      <td>93933.000000</td>\n",
              "      <td>93933.000000</td>\n",
              "      <td>93933.000000</td>\n",
              "      <td>93933.000000</td>\n",
              "      <td>93933.000000</td>\n",
              "      <td>93933.000000</td>\n",
              "      <td>93933.000000</td>\n",
              "      <td>93933.000000</td>\n",
              "      <td>93933.000000</td>\n",
              "      <td>93933.000000</td>\n",
              "      <td>93933.000000</td>\n",
              "      <td>93933.000000</td>\n",
              "    </tr>\n",
              "    <tr>\n",
              "      <th>mean</th>\n",
              "      <td>0.098996</td>\n",
              "      <td>0.451801</td>\n",
              "      <td>0.443848</td>\n",
              "      <td>0.961728</td>\n",
              "      <td>28.678303</td>\n",
              "      <td>0.461478</td>\n",
              "      <td>0.044042</td>\n",
              "      <td>0.316854</td>\n",
              "      <td>0.747086</td>\n",
              "      <td>0.622114</td>\n",
              "      <td>0.804350</td>\n",
              "      <td>0.060224</td>\n",
              "      <td>0.947260</td>\n",
              "      <td>0.087158</td>\n",
              "      <td>2.563817</td>\n",
              "      <td>3.359160</td>\n",
              "      <td>4.503380</td>\n",
              "      <td>0.177030</td>\n",
              "      <td>0.437461</td>\n",
              "      <td>8.128198</td>\n",
              "      <td>5.028723</td>\n",
              "      <td>5.998339</td>\n",
              "    </tr>\n",
              "    <tr>\n",
              "      <th>std</th>\n",
              "      <td>0.298658</td>\n",
              "      <td>0.497674</td>\n",
              "      <td>0.496840</td>\n",
              "      <td>0.191853</td>\n",
              "      <td>7.332759</td>\n",
              "      <td>0.498516</td>\n",
              "      <td>0.205190</td>\n",
              "      <td>0.716369</td>\n",
              "      <td>0.434685</td>\n",
              "      <td>0.484862</td>\n",
              "      <td>0.396702</td>\n",
              "      <td>0.237902</td>\n",
              "      <td>0.223515</td>\n",
              "      <td>0.282068</td>\n",
              "      <td>1.065413</td>\n",
              "      <td>7.525612</td>\n",
              "      <td>8.885449</td>\n",
              "      <td>0.381696</td>\n",
              "      <td>0.496076</td>\n",
              "      <td>3.070726</td>\n",
              "      <td>0.990042</td>\n",
              "      <td>2.074604</td>\n",
              "    </tr>\n",
              "    <tr>\n",
              "      <th>min</th>\n",
              "      <td>0.000000</td>\n",
              "      <td>0.000000</td>\n",
              "      <td>0.000000</td>\n",
              "      <td>0.000000</td>\n",
              "      <td>12.000000</td>\n",
              "      <td>0.000000</td>\n",
              "      <td>0.000000</td>\n",
              "      <td>0.000000</td>\n",
              "      <td>0.000000</td>\n",
              "      <td>0.000000</td>\n",
              "      <td>0.000000</td>\n",
              "      <td>0.000000</td>\n",
              "      <td>0.000000</td>\n",
              "      <td>0.000000</td>\n",
              "      <td>1.000000</td>\n",
              "      <td>0.000000</td>\n",
              "      <td>0.000000</td>\n",
              "      <td>0.000000</td>\n",
              "      <td>0.000000</td>\n",
              "      <td>1.000000</td>\n",
              "      <td>1.000000</td>\n",
              "      <td>1.000000</td>\n",
              "    </tr>\n",
              "    <tr>\n",
              "      <th>25%</th>\n",
              "      <td>0.000000</td>\n",
              "      <td>0.000000</td>\n",
              "      <td>0.000000</td>\n",
              "      <td>1.000000</td>\n",
              "      <td>24.000000</td>\n",
              "      <td>0.000000</td>\n",
              "      <td>0.000000</td>\n",
              "      <td>0.000000</td>\n",
              "      <td>0.000000</td>\n",
              "      <td>0.000000</td>\n",
              "      <td>1.000000</td>\n",
              "      <td>0.000000</td>\n",
              "      <td>1.000000</td>\n",
              "      <td>0.000000</td>\n",
              "      <td>2.000000</td>\n",
              "      <td>0.000000</td>\n",
              "      <td>0.000000</td>\n",
              "      <td>0.000000</td>\n",
              "      <td>0.000000</td>\n",
              "      <td>6.000000</td>\n",
              "      <td>4.000000</td>\n",
              "      <td>5.000000</td>\n",
              "    </tr>\n",
              "    <tr>\n",
              "      <th>50%</th>\n",
              "      <td>0.000000</td>\n",
              "      <td>0.000000</td>\n",
              "      <td>0.000000</td>\n",
              "      <td>1.000000</td>\n",
              "      <td>27.000000</td>\n",
              "      <td>0.000000</td>\n",
              "      <td>0.000000</td>\n",
              "      <td>0.000000</td>\n",
              "      <td>1.000000</td>\n",
              "      <td>1.000000</td>\n",
              "      <td>1.000000</td>\n",
              "      <td>0.000000</td>\n",
              "      <td>1.000000</td>\n",
              "      <td>0.000000</td>\n",
              "      <td>2.000000</td>\n",
              "      <td>0.000000</td>\n",
              "      <td>0.000000</td>\n",
              "      <td>0.000000</td>\n",
              "      <td>0.000000</td>\n",
              "      <td>8.000000</td>\n",
              "      <td>5.000000</td>\n",
              "      <td>7.000000</td>\n",
              "    </tr>\n",
              "    <tr>\n",
              "      <th>75%</th>\n",
              "      <td>0.000000</td>\n",
              "      <td>1.000000</td>\n",
              "      <td>1.000000</td>\n",
              "      <td>1.000000</td>\n",
              "      <td>32.000000</td>\n",
              "      <td>1.000000</td>\n",
              "      <td>0.000000</td>\n",
              "      <td>0.000000</td>\n",
              "      <td>1.000000</td>\n",
              "      <td>1.000000</td>\n",
              "      <td>1.000000</td>\n",
              "      <td>0.000000</td>\n",
              "      <td>1.000000</td>\n",
              "      <td>0.000000</td>\n",
              "      <td>3.000000</td>\n",
              "      <td>2.000000</td>\n",
              "      <td>3.000000</td>\n",
              "      <td>0.000000</td>\n",
              "      <td>1.000000</td>\n",
              "      <td>10.000000</td>\n",
              "      <td>6.000000</td>\n",
              "      <td>8.000000</td>\n",
              "    </tr>\n",
              "    <tr>\n",
              "      <th>max</th>\n",
              "      <td>1.000000</td>\n",
              "      <td>1.000000</td>\n",
              "      <td>1.000000</td>\n",
              "      <td>1.000000</td>\n",
              "      <td>98.000000</td>\n",
              "      <td>1.000000</td>\n",
              "      <td>1.000000</td>\n",
              "      <td>2.000000</td>\n",
              "      <td>1.000000</td>\n",
              "      <td>1.000000</td>\n",
              "      <td>1.000000</td>\n",
              "      <td>1.000000</td>\n",
              "      <td>1.000000</td>\n",
              "      <td>1.000000</td>\n",
              "      <td>5.000000</td>\n",
              "      <td>30.000000</td>\n",
              "      <td>30.000000</td>\n",
              "      <td>1.000000</td>\n",
              "      <td>1.000000</td>\n",
              "      <td>13.000000</td>\n",
              "      <td>6.000000</td>\n",
              "      <td>8.000000</td>\n",
              "    </tr>\n",
              "  </tbody>\n",
              "</table>\n",
              "</div>\n",
              "      <button class=\"colab-df-convert\" onclick=\"convertToInteractive('df-944ac85c-a541-419b-9643-da41af05ccc1')\"\n",
              "              title=\"Convert this dataframe to an interactive table.\"\n",
              "              style=\"display:none;\">\n",
              "        \n",
              "  <svg xmlns=\"http://www.w3.org/2000/svg\" height=\"24px\"viewBox=\"0 0 24 24\"\n",
              "       width=\"24px\">\n",
              "    <path d=\"M0 0h24v24H0V0z\" fill=\"none\"/>\n",
              "    <path d=\"M18.56 5.44l.94 2.06.94-2.06 2.06-.94-2.06-.94-.94-2.06-.94 2.06-2.06.94zm-11 1L8.5 8.5l.94-2.06 2.06-.94-2.06-.94L8.5 2.5l-.94 2.06-2.06.94zm10 10l.94 2.06.94-2.06 2.06-.94-2.06-.94-.94-2.06-.94 2.06-2.06.94z\"/><path d=\"M17.41 7.96l-1.37-1.37c-.4-.4-.92-.59-1.43-.59-.52 0-1.04.2-1.43.59L10.3 9.45l-7.72 7.72c-.78.78-.78 2.05 0 2.83L4 21.41c.39.39.9.59 1.41.59.51 0 1.02-.2 1.41-.59l7.78-7.78 2.81-2.81c.8-.78.8-2.07 0-2.86zM5.41 20L4 18.59l7.72-7.72 1.47 1.35L5.41 20z\"/>\n",
              "  </svg>\n",
              "      </button>\n",
              "      \n",
              "  <style>\n",
              "    .colab-df-container {\n",
              "      display:flex;\n",
              "      flex-wrap:wrap;\n",
              "      gap: 12px;\n",
              "    }\n",
              "\n",
              "    .colab-df-convert {\n",
              "      background-color: #E8F0FE;\n",
              "      border: none;\n",
              "      border-radius: 50%;\n",
              "      cursor: pointer;\n",
              "      display: none;\n",
              "      fill: #1967D2;\n",
              "      height: 32px;\n",
              "      padding: 0 0 0 0;\n",
              "      width: 32px;\n",
              "    }\n",
              "\n",
              "    .colab-df-convert:hover {\n",
              "      background-color: #E2EBFA;\n",
              "      box-shadow: 0px 1px 2px rgba(60, 64, 67, 0.3), 0px 1px 3px 1px rgba(60, 64, 67, 0.15);\n",
              "      fill: #174EA6;\n",
              "    }\n",
              "\n",
              "    [theme=dark] .colab-df-convert {\n",
              "      background-color: #3B4455;\n",
              "      fill: #D2E3FC;\n",
              "    }\n",
              "\n",
              "    [theme=dark] .colab-df-convert:hover {\n",
              "      background-color: #434B5C;\n",
              "      box-shadow: 0px 1px 3px 1px rgba(0, 0, 0, 0.15);\n",
              "      filter: drop-shadow(0px 1px 2px rgba(0, 0, 0, 0.3));\n",
              "      fill: #FFFFFF;\n",
              "    }\n",
              "  </style>\n",
              "\n",
              "      <script>\n",
              "        const buttonEl =\n",
              "          document.querySelector('#df-944ac85c-a541-419b-9643-da41af05ccc1 button.colab-df-convert');\n",
              "        buttonEl.style.display =\n",
              "          google.colab.kernel.accessAllowed ? 'block' : 'none';\n",
              "\n",
              "        async function convertToInteractive(key) {\n",
              "          const element = document.querySelector('#df-944ac85c-a541-419b-9643-da41af05ccc1');\n",
              "          const dataTable =\n",
              "            await google.colab.kernel.invokeFunction('convertToInteractive',\n",
              "                                                     [key], {});\n",
              "          if (!dataTable) return;\n",
              "\n",
              "          const docLinkHtml = 'Like what you see? Visit the ' +\n",
              "            '<a target=\"_blank\" href=https://colab.research.google.com/notebooks/data_table.ipynb>data table notebook</a>'\n",
              "            + ' to learn more about interactive tables.';\n",
              "          element.innerHTML = '';\n",
              "          dataTable['output_type'] = 'display_data';\n",
              "          await google.colab.output.renderOutput(dataTable, element);\n",
              "          const docLink = document.createElement('div');\n",
              "          docLink.innerHTML = docLinkHtml;\n",
              "          element.appendChild(docLink);\n",
              "        }\n",
              "      </script>\n",
              "    </div>\n",
              "  </div>\n",
              "  "
            ],
            "text/plain": [
              "       HeartDiseaseorAttack        HighBP  ...     Education        Income\n",
              "count          93933.000000  93933.000000  ...  93933.000000  93933.000000\n",
              "mean               0.098996      0.451801  ...      5.028723      5.998339\n",
              "std                0.298658      0.497674  ...      0.990042      2.074604\n",
              "min                0.000000      0.000000  ...      1.000000      1.000000\n",
              "25%                0.000000      0.000000  ...      4.000000      5.000000\n",
              "50%                0.000000      0.000000  ...      5.000000      7.000000\n",
              "75%                0.000000      1.000000  ...      6.000000      8.000000\n",
              "max                1.000000      1.000000  ...      6.000000      8.000000\n",
              "\n",
              "[8 rows x 22 columns]"
            ]
          },
          "metadata": {},
          "execution_count": 10
        }
      ]
    },
    {
      "cell_type": "markdown",
      "source": [
        "All values appear as expected."
      ],
      "metadata": {
        "id": "Fe1N7v6wQK4k"
      }
    },
    {
      "cell_type": "markdown",
      "source": [
        "##Data Visualizations\n",
        "With the data now cleaned, we will create visuals to further explore the relationship between features."
      ],
      "metadata": {
        "id": "JuxiqZRqQ6y2"
      }
    },
    {
      "cell_type": "code",
      "source": [
        "# check correlations to understand visuals\n",
        "df.corr()"
      ],
      "metadata": {
        "colab": {
          "base_uri": "https://localhost:8080/",
          "height": 803
        },
        "id": "NhNNOcN_gyjj",
        "outputId": "8c49ede1-f34f-4d7f-d1d4-36d60fa62912"
      },
      "execution_count": null,
      "outputs": [
        {
          "output_type": "execute_result",
          "data": {
            "text/html": [
              "\n",
              "  <div id=\"df-cef4c651-c7e4-4c0e-9749-bbf920b90cea\">\n",
              "    <div class=\"colab-df-container\">\n",
              "      <div>\n",
              "<style scoped>\n",
              "    .dataframe tbody tr th:only-of-type {\n",
              "        vertical-align: middle;\n",
              "    }\n",
              "\n",
              "    .dataframe tbody tr th {\n",
              "        vertical-align: top;\n",
              "    }\n",
              "\n",
              "    .dataframe thead th {\n",
              "        text-align: right;\n",
              "    }\n",
              "</style>\n",
              "<table border=\"1\" class=\"dataframe\">\n",
              "  <thead>\n",
              "    <tr style=\"text-align: right;\">\n",
              "      <th></th>\n",
              "      <th>HeartDiseaseorAttack</th>\n",
              "      <th>HighBP</th>\n",
              "      <th>HighChol</th>\n",
              "      <th>CholCheck</th>\n",
              "      <th>BMI</th>\n",
              "      <th>Smoker</th>\n",
              "      <th>Stroke</th>\n",
              "      <th>Diabetes</th>\n",
              "      <th>PhysActivity</th>\n",
              "      <th>Fruits</th>\n",
              "      <th>Veggies</th>\n",
              "      <th>HvyAlcoholConsump</th>\n",
              "      <th>AnyHealthcare</th>\n",
              "      <th>NoDocbcCost</th>\n",
              "      <th>GenHlth</th>\n",
              "      <th>MentHlth</th>\n",
              "      <th>PhysHlth</th>\n",
              "      <th>DiffWalk</th>\n",
              "      <th>Sex</th>\n",
              "      <th>Age</th>\n",
              "      <th>Education</th>\n",
              "      <th>Income</th>\n",
              "    </tr>\n",
              "  </thead>\n",
              "  <tbody>\n",
              "    <tr>\n",
              "      <th>HeartDiseaseorAttack</th>\n",
              "      <td>1.000000</td>\n",
              "      <td>0.203610</td>\n",
              "      <td>0.172021</td>\n",
              "      <td>0.045129</td>\n",
              "      <td>0.040584</td>\n",
              "      <td>0.107594</td>\n",
              "      <td>0.203855</td>\n",
              "      <td>0.176227</td>\n",
              "      <td>-0.077917</td>\n",
              "      <td>-0.011104</td>\n",
              "      <td>-0.028543</td>\n",
              "      <td>-0.033117</td>\n",
              "      <td>0.024468</td>\n",
              "      <td>0.028500</td>\n",
              "      <td>0.247119</td>\n",
              "      <td>0.061932</td>\n",
              "      <td>0.174242</td>\n",
              "      <td>0.203848</td>\n",
              "      <td>0.087884</td>\n",
              "      <td>0.214370</td>\n",
              "      <td>-0.082058</td>\n",
              "      <td>-0.127552</td>\n",
              "    </tr>\n",
              "    <tr>\n",
              "      <th>HighBP</th>\n",
              "      <td>0.203610</td>\n",
              "      <td>1.000000</td>\n",
              "      <td>0.284316</td>\n",
              "      <td>0.109183</td>\n",
              "      <td>0.184063</td>\n",
              "      <td>0.082317</td>\n",
              "      <td>0.124780</td>\n",
              "      <td>0.264481</td>\n",
              "      <td>-0.111000</td>\n",
              "      <td>-0.025937</td>\n",
              "      <td>-0.053535</td>\n",
              "      <td>-0.014912</td>\n",
              "      <td>0.045290</td>\n",
              "      <td>0.005241</td>\n",
              "      <td>0.276339</td>\n",
              "      <td>0.041357</td>\n",
              "      <td>0.145975</td>\n",
              "      <td>0.212572</td>\n",
              "      <td>0.046166</td>\n",
              "      <td>0.333694</td>\n",
              "      <td>-0.113953</td>\n",
              "      <td>-0.141959</td>\n",
              "    </tr>\n",
              "    <tr>\n",
              "      <th>HighChol</th>\n",
              "      <td>0.172021</td>\n",
              "      <td>0.284316</td>\n",
              "      <td>1.000000</td>\n",
              "      <td>0.093664</td>\n",
              "      <td>0.083069</td>\n",
              "      <td>0.077414</td>\n",
              "      <td>0.088220</td>\n",
              "      <td>0.203747</td>\n",
              "      <td>-0.068642</td>\n",
              "      <td>-0.029219</td>\n",
              "      <td>-0.031056</td>\n",
              "      <td>-0.020072</td>\n",
              "      <td>0.051655</td>\n",
              "      <td>0.004574</td>\n",
              "      <td>0.190205</td>\n",
              "      <td>0.051228</td>\n",
              "      <td>0.112811</td>\n",
              "      <td>0.135080</td>\n",
              "      <td>0.025544</td>\n",
              "      <td>0.263029</td>\n",
              "      <td>-0.047690</td>\n",
              "      <td>-0.062722</td>\n",
              "    </tr>\n",
              "    <tr>\n",
              "      <th>CholCheck</th>\n",
              "      <td>0.045129</td>\n",
              "      <td>0.109183</td>\n",
              "      <td>0.093664</td>\n",
              "      <td>1.000000</td>\n",
              "      <td>0.041481</td>\n",
              "      <td>-0.006677</td>\n",
              "      <td>0.026051</td>\n",
              "      <td>0.071813</td>\n",
              "      <td>-0.001178</td>\n",
              "      <td>0.014935</td>\n",
              "      <td>-0.004107</td>\n",
              "      <td>-0.015510</td>\n",
              "      <td>0.115542</td>\n",
              "      <td>-0.059543</td>\n",
              "      <td>0.053694</td>\n",
              "      <td>-0.007416</td>\n",
              "      <td>0.036132</td>\n",
              "      <td>0.044984</td>\n",
              "      <td>-0.022744</td>\n",
              "      <td>0.094327</td>\n",
              "      <td>-0.002115</td>\n",
              "      <td>0.012840</td>\n",
              "    </tr>\n",
              "    <tr>\n",
              "      <th>BMI</th>\n",
              "      <td>0.040584</td>\n",
              "      <td>0.184063</td>\n",
              "      <td>0.083069</td>\n",
              "      <td>0.041481</td>\n",
              "      <td>1.000000</td>\n",
              "      <td>-0.008140</td>\n",
              "      <td>0.009105</td>\n",
              "      <td>0.194261</td>\n",
              "      <td>-0.130492</td>\n",
              "      <td>-0.072445</td>\n",
              "      <td>-0.050462</td>\n",
              "      <td>-0.054193</td>\n",
              "      <td>-0.012697</td>\n",
              "      <td>0.046874</td>\n",
              "      <td>0.202012</td>\n",
              "      <td>0.070455</td>\n",
              "      <td>0.099420</td>\n",
              "      <td>0.173053</td>\n",
              "      <td>0.029639</td>\n",
              "      <td>-0.057770</td>\n",
              "      <td>-0.079310</td>\n",
              "      <td>-0.073595</td>\n",
              "    </tr>\n",
              "    <tr>\n",
              "      <th>Smoker</th>\n",
              "      <td>0.107594</td>\n",
              "      <td>0.082317</td>\n",
              "      <td>0.077414</td>\n",
              "      <td>-0.006677</td>\n",
              "      <td>-0.008140</td>\n",
              "      <td>1.000000</td>\n",
              "      <td>0.057748</td>\n",
              "      <td>0.048234</td>\n",
              "      <td>-0.076280</td>\n",
              "      <td>-0.059873</td>\n",
              "      <td>-0.015286</td>\n",
              "      <td>0.094740</td>\n",
              "      <td>-0.016514</td>\n",
              "      <td>0.039966</td>\n",
              "      <td>0.140002</td>\n",
              "      <td>0.076476</td>\n",
              "      <td>0.104249</td>\n",
              "      <td>0.110167</td>\n",
              "      <td>0.092897</td>\n",
              "      <td>0.119297</td>\n",
              "      <td>-0.139647</td>\n",
              "      <td>-0.105099</td>\n",
              "    </tr>\n",
              "    <tr>\n",
              "      <th>Stroke</th>\n",
              "      <td>0.203855</td>\n",
              "      <td>0.124780</td>\n",
              "      <td>0.088220</td>\n",
              "      <td>0.026051</td>\n",
              "      <td>0.009105</td>\n",
              "      <td>0.057748</td>\n",
              "      <td>1.000000</td>\n",
              "      <td>0.102278</td>\n",
              "      <td>-0.063701</td>\n",
              "      <td>-0.011844</td>\n",
              "      <td>-0.040491</td>\n",
              "      <td>-0.021623</td>\n",
              "      <td>0.012345</td>\n",
              "      <td>0.036867</td>\n",
              "      <td>0.171782</td>\n",
              "      <td>0.071515</td>\n",
              "      <td>0.146975</td>\n",
              "      <td>0.170676</td>\n",
              "      <td>0.001069</td>\n",
              "      <td>0.125905</td>\n",
              "      <td>-0.067856</td>\n",
              "      <td>-0.124023</td>\n",
              "    </tr>\n",
              "    <tr>\n",
              "      <th>Diabetes</th>\n",
              "      <td>0.176227</td>\n",
              "      <td>0.264481</td>\n",
              "      <td>0.203747</td>\n",
              "      <td>0.071813</td>\n",
              "      <td>0.194261</td>\n",
              "      <td>0.048234</td>\n",
              "      <td>0.102278</td>\n",
              "      <td>1.000000</td>\n",
              "      <td>-0.109625</td>\n",
              "      <td>-0.027155</td>\n",
              "      <td>-0.048770</td>\n",
              "      <td>-0.064743</td>\n",
              "      <td>0.016535</td>\n",
              "      <td>0.030501</td>\n",
              "      <td>0.288083</td>\n",
              "      <td>0.064748</td>\n",
              "      <td>0.165356</td>\n",
              "      <td>0.214451</td>\n",
              "      <td>0.028605</td>\n",
              "      <td>0.177833</td>\n",
              "      <td>-0.113628</td>\n",
              "      <td>-0.150290</td>\n",
              "    </tr>\n",
              "    <tr>\n",
              "      <th>PhysActivity</th>\n",
              "      <td>-0.077917</td>\n",
              "      <td>-0.111000</td>\n",
              "      <td>-0.068642</td>\n",
              "      <td>-0.001178</td>\n",
              "      <td>-0.130492</td>\n",
              "      <td>-0.076280</td>\n",
              "      <td>-0.063701</td>\n",
              "      <td>-0.109625</td>\n",
              "      <td>1.000000</td>\n",
              "      <td>0.130753</td>\n",
              "      <td>0.140016</td>\n",
              "      <td>0.023651</td>\n",
              "      <td>0.026633</td>\n",
              "      <td>-0.051957</td>\n",
              "      <td>-0.247080</td>\n",
              "      <td>-0.117482</td>\n",
              "      <td>-0.209471</td>\n",
              "      <td>-0.247051</td>\n",
              "      <td>0.034399</td>\n",
              "      <td>-0.086572</td>\n",
              "      <td>0.179852</td>\n",
              "      <td>0.173698</td>\n",
              "    </tr>\n",
              "    <tr>\n",
              "      <th>Fruits</th>\n",
              "      <td>-0.011104</td>\n",
              "      <td>-0.025937</td>\n",
              "      <td>-0.029219</td>\n",
              "      <td>0.014935</td>\n",
              "      <td>-0.072445</td>\n",
              "      <td>-0.059873</td>\n",
              "      <td>-0.011844</td>\n",
              "      <td>-0.027155</td>\n",
              "      <td>0.130753</td>\n",
              "      <td>1.000000</td>\n",
              "      <td>0.249078</td>\n",
              "      <td>-0.027808</td>\n",
              "      <td>0.017972</td>\n",
              "      <td>-0.034503</td>\n",
              "      <td>-0.076556</td>\n",
              "      <td>-0.057521</td>\n",
              "      <td>-0.031037</td>\n",
              "      <td>-0.034579</td>\n",
              "      <td>-0.087897</td>\n",
              "      <td>0.073574</td>\n",
              "      <td>0.083533</td>\n",
              "      <td>0.050146</td>\n",
              "    </tr>\n",
              "    <tr>\n",
              "      <th>Veggies</th>\n",
              "      <td>-0.028543</td>\n",
              "      <td>-0.053535</td>\n",
              "      <td>-0.031056</td>\n",
              "      <td>-0.004107</td>\n",
              "      <td>-0.050462</td>\n",
              "      <td>-0.015286</td>\n",
              "      <td>-0.040491</td>\n",
              "      <td>-0.048770</td>\n",
              "      <td>0.140016</td>\n",
              "      <td>0.249078</td>\n",
              "      <td>1.000000</td>\n",
              "      <td>0.031674</td>\n",
              "      <td>0.025544</td>\n",
              "      <td>-0.023615</td>\n",
              "      <td>-0.105973</td>\n",
              "      <td>-0.050952</td>\n",
              "      <td>-0.053618</td>\n",
              "      <td>-0.072033</td>\n",
              "      <td>-0.066125</td>\n",
              "      <td>-0.005209</td>\n",
              "      <td>0.142439</td>\n",
              "      <td>0.139775</td>\n",
              "    </tr>\n",
              "    <tr>\n",
              "      <th>HvyAlcoholConsump</th>\n",
              "      <td>-0.033117</td>\n",
              "      <td>-0.014912</td>\n",
              "      <td>-0.020072</td>\n",
              "      <td>-0.015510</td>\n",
              "      <td>-0.054193</td>\n",
              "      <td>0.094740</td>\n",
              "      <td>-0.021623</td>\n",
              "      <td>-0.064743</td>\n",
              "      <td>0.023651</td>\n",
              "      <td>-0.027808</td>\n",
              "      <td>0.031674</td>\n",
              "      <td>1.000000</td>\n",
              "      <td>-0.002733</td>\n",
              "      <td>-0.002388</td>\n",
              "      <td>-0.054918</td>\n",
              "      <td>0.017971</td>\n",
              "      <td>-0.034512</td>\n",
              "      <td>-0.046246</td>\n",
              "      <td>0.004716</td>\n",
              "      <td>-0.037208</td>\n",
              "      <td>0.035731</td>\n",
              "      <td>0.067803</td>\n",
              "    </tr>\n",
              "    <tr>\n",
              "      <th>AnyHealthcare</th>\n",
              "      <td>0.024468</td>\n",
              "      <td>0.045290</td>\n",
              "      <td>0.051655</td>\n",
              "      <td>0.115542</td>\n",
              "      <td>-0.012697</td>\n",
              "      <td>-0.016514</td>\n",
              "      <td>0.012345</td>\n",
              "      <td>0.016535</td>\n",
              "      <td>0.026633</td>\n",
              "      <td>0.017972</td>\n",
              "      <td>0.025544</td>\n",
              "      <td>-0.002733</td>\n",
              "      <td>1.000000</td>\n",
              "      <td>-0.235597</td>\n",
              "      <td>-0.035624</td>\n",
              "      <td>-0.048890</td>\n",
              "      <td>-0.004729</td>\n",
              "      <td>0.012480</td>\n",
              "      <td>-0.023218</td>\n",
              "      <td>0.150039</td>\n",
              "      <td>0.125434</td>\n",
              "      <td>0.157651</td>\n",
              "    </tr>\n",
              "    <tr>\n",
              "      <th>NoDocbcCost</th>\n",
              "      <td>0.028500</td>\n",
              "      <td>0.005241</td>\n",
              "      <td>0.004574</td>\n",
              "      <td>-0.059543</td>\n",
              "      <td>0.046874</td>\n",
              "      <td>0.039966</td>\n",
              "      <td>0.036867</td>\n",
              "      <td>0.030501</td>\n",
              "      <td>-0.051957</td>\n",
              "      <td>-0.034503</td>\n",
              "      <td>-0.023615</td>\n",
              "      <td>-0.002388</td>\n",
              "      <td>-0.235597</td>\n",
              "      <td>1.000000</td>\n",
              "      <td>0.155519</td>\n",
              "      <td>0.190657</td>\n",
              "      <td>0.141821</td>\n",
              "      <td>0.114174</td>\n",
              "      <td>-0.047969</td>\n",
              "      <td>-0.130195</td>\n",
              "      <td>-0.094282</td>\n",
              "      <td>-0.195615</td>\n",
              "    </tr>\n",
              "    <tr>\n",
              "      <th>GenHlth</th>\n",
              "      <td>0.247119</td>\n",
              "      <td>0.276339</td>\n",
              "      <td>0.190205</td>\n",
              "      <td>0.053694</td>\n",
              "      <td>0.202012</td>\n",
              "      <td>0.140002</td>\n",
              "      <td>0.171782</td>\n",
              "      <td>0.288083</td>\n",
              "      <td>-0.247080</td>\n",
              "      <td>-0.076556</td>\n",
              "      <td>-0.105973</td>\n",
              "      <td>-0.054918</td>\n",
              "      <td>-0.035624</td>\n",
              "      <td>0.155519</td>\n",
              "      <td>1.000000</td>\n",
              "      <td>0.291998</td>\n",
              "      <td>0.521057</td>\n",
              "      <td>0.447378</td>\n",
              "      <td>-0.012335</td>\n",
              "      <td>0.134896</td>\n",
              "      <td>-0.255442</td>\n",
              "      <td>-0.333347</td>\n",
              "    </tr>\n",
              "    <tr>\n",
              "      <th>MentHlth</th>\n",
              "      <td>0.061932</td>\n",
              "      <td>0.041357</td>\n",
              "      <td>0.051228</td>\n",
              "      <td>-0.007416</td>\n",
              "      <td>0.070455</td>\n",
              "      <td>0.076476</td>\n",
              "      <td>0.071515</td>\n",
              "      <td>0.064748</td>\n",
              "      <td>-0.117482</td>\n",
              "      <td>-0.057521</td>\n",
              "      <td>-0.050952</td>\n",
              "      <td>0.017971</td>\n",
              "      <td>-0.048890</td>\n",
              "      <td>0.190657</td>\n",
              "      <td>0.291998</td>\n",
              "      <td>1.000000</td>\n",
              "      <td>0.347889</td>\n",
              "      <td>0.230486</td>\n",
              "      <td>-0.083909</td>\n",
              "      <td>-0.101422</td>\n",
              "      <td>-0.089040</td>\n",
              "      <td>-0.197508</td>\n",
              "    </tr>\n",
              "    <tr>\n",
              "      <th>PhysHlth</th>\n",
              "      <td>0.174242</td>\n",
              "      <td>0.145975</td>\n",
              "      <td>0.112811</td>\n",
              "      <td>0.036132</td>\n",
              "      <td>0.099420</td>\n",
              "      <td>0.104249</td>\n",
              "      <td>0.146975</td>\n",
              "      <td>0.165356</td>\n",
              "      <td>-0.209471</td>\n",
              "      <td>-0.031037</td>\n",
              "      <td>-0.053618</td>\n",
              "      <td>-0.034512</td>\n",
              "      <td>-0.004729</td>\n",
              "      <td>0.141821</td>\n",
              "      <td>0.521057</td>\n",
              "      <td>0.347889</td>\n",
              "      <td>1.000000</td>\n",
              "      <td>0.473438</td>\n",
              "      <td>-0.042153</td>\n",
              "      <td>0.095376</td>\n",
              "      <td>-0.134710</td>\n",
              "      <td>-0.249402</td>\n",
              "    </tr>\n",
              "    <tr>\n",
              "      <th>DiffWalk</th>\n",
              "      <td>0.203848</td>\n",
              "      <td>0.212572</td>\n",
              "      <td>0.135080</td>\n",
              "      <td>0.044984</td>\n",
              "      <td>0.173053</td>\n",
              "      <td>0.110167</td>\n",
              "      <td>0.170676</td>\n",
              "      <td>0.214451</td>\n",
              "      <td>-0.247051</td>\n",
              "      <td>-0.034579</td>\n",
              "      <td>-0.072033</td>\n",
              "      <td>-0.046246</td>\n",
              "      <td>0.012480</td>\n",
              "      <td>0.114174</td>\n",
              "      <td>0.447378</td>\n",
              "      <td>0.230486</td>\n",
              "      <td>0.473438</td>\n",
              "      <td>1.000000</td>\n",
              "      <td>-0.070928</td>\n",
              "      <td>0.195603</td>\n",
              "      <td>-0.174317</td>\n",
              "      <td>-0.302337</td>\n",
              "    </tr>\n",
              "    <tr>\n",
              "      <th>Sex</th>\n",
              "      <td>0.087884</td>\n",
              "      <td>0.046166</td>\n",
              "      <td>0.025544</td>\n",
              "      <td>-0.022744</td>\n",
              "      <td>0.029639</td>\n",
              "      <td>0.092897</td>\n",
              "      <td>0.001069</td>\n",
              "      <td>0.028605</td>\n",
              "      <td>0.034399</td>\n",
              "      <td>-0.087897</td>\n",
              "      <td>-0.066125</td>\n",
              "      <td>0.004716</td>\n",
              "      <td>-0.023218</td>\n",
              "      <td>-0.047969</td>\n",
              "      <td>-0.012335</td>\n",
              "      <td>-0.083909</td>\n",
              "      <td>-0.042153</td>\n",
              "      <td>-0.070928</td>\n",
              "      <td>1.000000</td>\n",
              "      <td>-0.034719</td>\n",
              "      <td>0.024814</td>\n",
              "      <td>0.128759</td>\n",
              "    </tr>\n",
              "    <tr>\n",
              "      <th>Age</th>\n",
              "      <td>0.214370</td>\n",
              "      <td>0.333694</td>\n",
              "      <td>0.263029</td>\n",
              "      <td>0.094327</td>\n",
              "      <td>-0.057770</td>\n",
              "      <td>0.119297</td>\n",
              "      <td>0.125905</td>\n",
              "      <td>0.177833</td>\n",
              "      <td>-0.086572</td>\n",
              "      <td>0.073574</td>\n",
              "      <td>-0.005209</td>\n",
              "      <td>-0.037208</td>\n",
              "      <td>0.150039</td>\n",
              "      <td>-0.130195</td>\n",
              "      <td>0.134896</td>\n",
              "      <td>-0.101422</td>\n",
              "      <td>0.095376</td>\n",
              "      <td>0.195603</td>\n",
              "      <td>-0.034719</td>\n",
              "      <td>1.000000</td>\n",
              "      <td>-0.070169</td>\n",
              "      <td>-0.109265</td>\n",
              "    </tr>\n",
              "    <tr>\n",
              "      <th>Education</th>\n",
              "      <td>-0.082058</td>\n",
              "      <td>-0.113953</td>\n",
              "      <td>-0.047690</td>\n",
              "      <td>-0.002115</td>\n",
              "      <td>-0.079310</td>\n",
              "      <td>-0.139647</td>\n",
              "      <td>-0.067856</td>\n",
              "      <td>-0.113628</td>\n",
              "      <td>0.179852</td>\n",
              "      <td>0.083533</td>\n",
              "      <td>0.142439</td>\n",
              "      <td>0.035731</td>\n",
              "      <td>0.125434</td>\n",
              "      <td>-0.094282</td>\n",
              "      <td>-0.255442</td>\n",
              "      <td>-0.089040</td>\n",
              "      <td>-0.134710</td>\n",
              "      <td>-0.174317</td>\n",
              "      <td>0.024814</td>\n",
              "      <td>-0.070169</td>\n",
              "      <td>1.000000</td>\n",
              "      <td>0.434100</td>\n",
              "    </tr>\n",
              "    <tr>\n",
              "      <th>Income</th>\n",
              "      <td>-0.127552</td>\n",
              "      <td>-0.141959</td>\n",
              "      <td>-0.062722</td>\n",
              "      <td>0.012840</td>\n",
              "      <td>-0.073595</td>\n",
              "      <td>-0.105099</td>\n",
              "      <td>-0.124023</td>\n",
              "      <td>-0.150290</td>\n",
              "      <td>0.173698</td>\n",
              "      <td>0.050146</td>\n",
              "      <td>0.139775</td>\n",
              "      <td>0.067803</td>\n",
              "      <td>0.157651</td>\n",
              "      <td>-0.195615</td>\n",
              "      <td>-0.333347</td>\n",
              "      <td>-0.197508</td>\n",
              "      <td>-0.249402</td>\n",
              "      <td>-0.302337</td>\n",
              "      <td>0.128759</td>\n",
              "      <td>-0.109265</td>\n",
              "      <td>0.434100</td>\n",
              "      <td>1.000000</td>\n",
              "    </tr>\n",
              "  </tbody>\n",
              "</table>\n",
              "</div>\n",
              "      <button class=\"colab-df-convert\" onclick=\"convertToInteractive('df-cef4c651-c7e4-4c0e-9749-bbf920b90cea')\"\n",
              "              title=\"Convert this dataframe to an interactive table.\"\n",
              "              style=\"display:none;\">\n",
              "        \n",
              "  <svg xmlns=\"http://www.w3.org/2000/svg\" height=\"24px\"viewBox=\"0 0 24 24\"\n",
              "       width=\"24px\">\n",
              "    <path d=\"M0 0h24v24H0V0z\" fill=\"none\"/>\n",
              "    <path d=\"M18.56 5.44l.94 2.06.94-2.06 2.06-.94-2.06-.94-.94-2.06-.94 2.06-2.06.94zm-11 1L8.5 8.5l.94-2.06 2.06-.94-2.06-.94L8.5 2.5l-.94 2.06-2.06.94zm10 10l.94 2.06.94-2.06 2.06-.94-2.06-.94-.94-2.06-.94 2.06-2.06.94z\"/><path d=\"M17.41 7.96l-1.37-1.37c-.4-.4-.92-.59-1.43-.59-.52 0-1.04.2-1.43.59L10.3 9.45l-7.72 7.72c-.78.78-.78 2.05 0 2.83L4 21.41c.39.39.9.59 1.41.59.51 0 1.02-.2 1.41-.59l7.78-7.78 2.81-2.81c.8-.78.8-2.07 0-2.86zM5.41 20L4 18.59l7.72-7.72 1.47 1.35L5.41 20z\"/>\n",
              "  </svg>\n",
              "      </button>\n",
              "      \n",
              "  <style>\n",
              "    .colab-df-container {\n",
              "      display:flex;\n",
              "      flex-wrap:wrap;\n",
              "      gap: 12px;\n",
              "    }\n",
              "\n",
              "    .colab-df-convert {\n",
              "      background-color: #E8F0FE;\n",
              "      border: none;\n",
              "      border-radius: 50%;\n",
              "      cursor: pointer;\n",
              "      display: none;\n",
              "      fill: #1967D2;\n",
              "      height: 32px;\n",
              "      padding: 0 0 0 0;\n",
              "      width: 32px;\n",
              "    }\n",
              "\n",
              "    .colab-df-convert:hover {\n",
              "      background-color: #E2EBFA;\n",
              "      box-shadow: 0px 1px 2px rgba(60, 64, 67, 0.3), 0px 1px 3px 1px rgba(60, 64, 67, 0.15);\n",
              "      fill: #174EA6;\n",
              "    }\n",
              "\n",
              "    [theme=dark] .colab-df-convert {\n",
              "      background-color: #3B4455;\n",
              "      fill: #D2E3FC;\n",
              "    }\n",
              "\n",
              "    [theme=dark] .colab-df-convert:hover {\n",
              "      background-color: #434B5C;\n",
              "      box-shadow: 0px 1px 3px 1px rgba(0, 0, 0, 0.15);\n",
              "      filter: drop-shadow(0px 1px 2px rgba(0, 0, 0, 0.3));\n",
              "      fill: #FFFFFF;\n",
              "    }\n",
              "  </style>\n",
              "\n",
              "      <script>\n",
              "        const buttonEl =\n",
              "          document.querySelector('#df-cef4c651-c7e4-4c0e-9749-bbf920b90cea button.colab-df-convert');\n",
              "        buttonEl.style.display =\n",
              "          google.colab.kernel.accessAllowed ? 'block' : 'none';\n",
              "\n",
              "        async function convertToInteractive(key) {\n",
              "          const element = document.querySelector('#df-cef4c651-c7e4-4c0e-9749-bbf920b90cea');\n",
              "          const dataTable =\n",
              "            await google.colab.kernel.invokeFunction('convertToInteractive',\n",
              "                                                     [key], {});\n",
              "          if (!dataTable) return;\n",
              "\n",
              "          const docLinkHtml = 'Like what you see? Visit the ' +\n",
              "            '<a target=\"_blank\" href=https://colab.research.google.com/notebooks/data_table.ipynb>data table notebook</a>'\n",
              "            + ' to learn more about interactive tables.';\n",
              "          element.innerHTML = '';\n",
              "          dataTable['output_type'] = 'display_data';\n",
              "          await google.colab.output.renderOutput(dataTable, element);\n",
              "          const docLink = document.createElement('div');\n",
              "          docLink.innerHTML = docLinkHtml;\n",
              "          element.appendChild(docLink);\n",
              "        }\n",
              "      </script>\n",
              "    </div>\n",
              "  </div>\n",
              "  "
            ],
            "text/plain": [
              "                      HeartDiseaseorAttack    HighBP  ...  Education    Income\n",
              "HeartDiseaseorAttack              1.000000  0.203610  ...  -0.082058 -0.127552\n",
              "HighBP                            0.203610  1.000000  ...  -0.113953 -0.141959\n",
              "HighChol                          0.172021  0.284316  ...  -0.047690 -0.062722\n",
              "CholCheck                         0.045129  0.109183  ...  -0.002115  0.012840\n",
              "BMI                               0.040584  0.184063  ...  -0.079310 -0.073595\n",
              "Smoker                            0.107594  0.082317  ...  -0.139647 -0.105099\n",
              "Stroke                            0.203855  0.124780  ...  -0.067856 -0.124023\n",
              "Diabetes                          0.176227  0.264481  ...  -0.113628 -0.150290\n",
              "PhysActivity                     -0.077917 -0.111000  ...   0.179852  0.173698\n",
              "Fruits                           -0.011104 -0.025937  ...   0.083533  0.050146\n",
              "Veggies                          -0.028543 -0.053535  ...   0.142439  0.139775\n",
              "HvyAlcoholConsump                -0.033117 -0.014912  ...   0.035731  0.067803\n",
              "AnyHealthcare                     0.024468  0.045290  ...   0.125434  0.157651\n",
              "NoDocbcCost                       0.028500  0.005241  ...  -0.094282 -0.195615\n",
              "GenHlth                           0.247119  0.276339  ...  -0.255442 -0.333347\n",
              "MentHlth                          0.061932  0.041357  ...  -0.089040 -0.197508\n",
              "PhysHlth                          0.174242  0.145975  ...  -0.134710 -0.249402\n",
              "DiffWalk                          0.203848  0.212572  ...  -0.174317 -0.302337\n",
              "Sex                               0.087884  0.046166  ...   0.024814  0.128759\n",
              "Age                               0.214370  0.333694  ...  -0.070169 -0.109265\n",
              "Education                        -0.082058 -0.113953  ...   1.000000  0.434100\n",
              "Income                           -0.127552 -0.141959  ...   0.434100  1.000000\n",
              "\n",
              "[22 rows x 22 columns]"
            ]
          },
          "metadata": {},
          "execution_count": 11
        }
      ]
    },
    {
      "cell_type": "code",
      "source": [
        "# visual for HeartDiseaseorAttack\n",
        "hda = df['HeartDiseaseorAttack'].value_counts()\n",
        "hda.plot(kind = 'bar')\n",
        "plt.title('Heart Disease or Attack')\n",
        "plt.ylabel('Count');"
      ],
      "metadata": {
        "colab": {
          "base_uri": "https://localhost:8080/",
          "height": 287
        },
        "id": "hZ1TOH6yc2LG",
        "outputId": "b4e51431-2935-4817-8807-fc85bedb0838"
      },
      "execution_count": null,
      "outputs": [
        {
          "output_type": "display_data",
          "data": {
            "image/png": "[encoded data removed]",
            "text/plain": [
              "<Figure size 432x288 with 1 Axes>"
            ]
          },
          "metadata": {
            "needs_background": "light"
          }
        }
      ]
    },
    {
      "cell_type": "markdown",
      "source": [
        "HeartDiseaseorAttack will be our target vector for our models.  This visual shows the incredible unbalance of our dataset.  "
      ],
      "metadata": {
        "id": "mCxGm-8ffUbD"
      }
    },
    {
      "cell_type": "code",
      "source": [
        "# visual for HighBP\n",
        "highbp = df['HighBP'].value_counts()\n",
        "highbp.plot(kind= 'bar')\n",
        "plt.title('High Blood Pressure')\n",
        "plt.ylabel('Count');"
      ],
      "metadata": {
        "colab": {
          "base_uri": "https://localhost:8080/",
          "height": 287
        },
        "id": "8QuPtCIHdGKv",
        "outputId": "68f7489e-e9f8-4ff2-ba25-8a5fbf127ac8"
      },
      "execution_count": null,
      "outputs": [
        {
          "output_type": "display_data",
          "data": {
            "image/png": "[encoded data removed]",
            "text/plain": [
              "<Figure size 432x288 with 1 Axes>"
            ]
          },
          "metadata": {
            "needs_background": "light"
          }
        }
      ]
    },
    {
      "cell_type": "markdown",
      "source": [
        "This visual shows us that a much larger cohort of the dataset has been told they have high blood pressure at some point.  This is weakly correlated to our target vector."
      ],
      "metadata": {
        "id": "gVf9knvvfzkz"
      }
    },
    {
      "cell_type": "code",
      "source": [
        "# visual for HighChol\n",
        "highchol = df['HighChol'].value_counts()\n",
        "highchol.plot(kind = 'bar')\n",
        "plt.title('High Cholesterol')\n",
        "plt.ylabel('Count');"
      ],
      "metadata": {
        "colab": {
          "base_uri": "https://localhost:8080/",
          "height": 287
        },
        "id": "D7NrxrA3eFMp",
        "outputId": "57af76f7-6f84-4054-b7a8-7f439f04deed"
      },
      "execution_count": null,
      "outputs": [
        {
          "output_type": "display_data",
          "data": {
            "image/png": "[encoded data removed]",
            "text/plain": [
              "<Figure size 432x288 with 1 Axes>"
            ]
          },
          "metadata": {
            "needs_background": "light"
          }
        }
      ]
    },
    {
      "cell_type": "markdown",
      "source": [
        "This visual shows that nearly half of our samples have been told they have high cholesterol at some point. HighChol is also weakly correlated to our target vector."
      ],
      "metadata": {
        "id": "DTZR6wS5iR_S"
      }
    },
    {
      "cell_type": "code",
      "source": [
        "# visual for CholCheck\n",
        "cholcheck = df['CholCheck'].value_counts()\n",
        "cholcheck.plot(kind = 'bar')\n",
        "plt.title('Cholesterol Check')\n",
        "plt.ylabel('Count');"
      ],
      "metadata": {
        "colab": {
          "base_uri": "https://localhost:8080/",
          "height": 287
        },
        "id": "iQqLhEiQec-_",
        "outputId": "15d0b059-bcef-49c4-8101-2cc9df09d8f4"
      },
      "execution_count": null,
      "outputs": [
        {
          "output_type": "display_data",
          "data": {
            "image/png": "[encoded data removed]",
            "text/plain": [
              "<Figure size 432x288 with 1 Axes>"
            ]
          },
          "metadata": {
            "needs_background": "light"
          }
        }
      ]
    },
    {
      "cell_type": "markdown",
      "source": [
        "This visual shows us that nearly all of our samples have had their cholesterol checked within the past 5 years. CholCheck is not correlated to our target vector."
      ],
      "metadata": {
        "id": "nw2e3idBi1f4"
      }
    },
    {
      "cell_type": "code",
      "source": [
        "# visual for BMI\n",
        "df['BMI'].plot(kind = 'box')\n",
        "plt.title('BMI');"
      ],
      "metadata": {
        "colab": {
          "base_uri": "https://localhost:8080/",
          "height": 281
        },
        "id": "jw9dVP7ZexG1",
        "outputId": "1158310c-876c-4a17-d389-c5175af19f16"
      },
      "execution_count": null,
      "outputs": [
        {
          "output_type": "display_data",
          "data": {
            "image/png": "[encoded data removed]",
            "text/plain": [
              "<Figure size 432x288 with 1 Axes>"
            ]
          },
          "metadata": {
            "needs_background": "light"
          }
        }
      ]
    },
    {
      "cell_type": "markdown",
      "source": [
        "This boxplot of the BMI column shows us that most of our BMI values fall between 20 and 40.  There are a large number of outliers above the statistical max. Individuals are considered Obese at a BMI of 30.  While clearly uncommon, the max BMI in our dataset of 98 is not impossible.  The average height for American Males is 69 inches. At that height, an individual must weigh 660 pounds for their BMI to be 98. We will keep these outliers due to the true possibility of their results."
      ],
      "metadata": {
        "id": "8a5vxJ0ajIVR"
      }
    },
    {
      "cell_type": "code",
      "source": [
        "# visual for Smoker\n",
        "smoke = df['Smoker'].value_counts()\n",
        "smoke.plot(kind = 'bar')\n",
        "plt.title('Smoker')\n",
        "plt.ylabel('Count');"
      ],
      "metadata": {
        "colab": {
          "base_uri": "https://localhost:8080/",
          "height": 287
        },
        "id": "-e__R5rcfBv-",
        "outputId": "e7defd27-b5f0-499b-98d6-7fd7d3696514"
      },
      "execution_count": null,
      "outputs": [
        {
          "output_type": "display_data",
          "data": {
            "image/png": "[encoded data removed]",
            "text/plain": [
              "<Figure size 432x288 with 1 Axes>"
            ]
          },
          "metadata": {
            "needs_background": "light"
          }
        }
      ]
    },
    {
      "cell_type": "markdown",
      "source": [
        "This visual shows us that nearly half of our dataset have smoked at least 5 packs of cigarettes in their lifetime.  Smoker is very weakly correlated to our target vector."
      ],
      "metadata": {
        "id": "ijORiEbHllc_"
      }
    },
    {
      "cell_type": "code",
      "source": [
        "# visual for stroke\n",
        "stroke = df['Stroke'].value_counts()\n",
        "stroke.plot(kind = 'bar')\n",
        "plt.title('Stroke')\n",
        "plt.ylabel('Count');"
      ],
      "metadata": {
        "colab": {
          "base_uri": "https://localhost:8080/",
          "height": 287
        },
        "id": "HNDcjuPXlfSr",
        "outputId": "d27c3646-9ab0-4d65-880c-374ef8237d01"
      },
      "execution_count": null,
      "outputs": [
        {
          "output_type": "display_data",
          "data": {
            "image/png": "[encoded data removed]",
            "text/plain": [
              "<Figure size 432x288 with 1 Axes>"
            ]
          },
          "metadata": {
            "needs_background": "light"
          }
        }
      ]
    },
    {
      "cell_type": "markdown",
      "source": [
        "This visual shows us that very few of our samples have had a stroke.  This is moderately correlated to our target vector."
      ],
      "metadata": {
        "id": "-oCqiGwmmEi0"
      }
    },
    {
      "cell_type": "code",
      "source": [
        "# visual for diabetes\n",
        "diabetes = df['Diabetes'].value_counts()\n",
        "diabetes.plot(kind = 'bar')\n",
        "plt.title('Diabetes')\n",
        "plt.ylabel('Count');"
      ],
      "metadata": {
        "colab": {
          "base_uri": "https://localhost:8080/",
          "height": 287
        },
        "id": "RgMv6a_Ql_4n",
        "outputId": "f2d82853-c620-41d4-8a4f-c53f9e9a1063"
      },
      "execution_count": null,
      "outputs": [
        {
          "output_type": "display_data",
          "data": {
            "image/png": "[encoded data removed]",
            "text/plain": [
              "<Figure size 432x288 with 1 Axes>"
            ]
          },
          "metadata": {
            "needs_background": "light"
          }
        }
      ]
    },
    {
      "cell_type": "markdown",
      "source": [
        "This visual shows that the vast majority of our samples have no diabetes. Diabetes is weakly correlated to our target vector.\n",
        "\n",
        "NOTE: 0 label is no diabetes, 1 label is Pre-diabetic, 2 label is Diabetic"
      ],
      "metadata": {
        "id": "1FMZ0H0Cme3c"
      }
    },
    {
      "cell_type": "code",
      "source": [
        "# visual for physical activity\n",
        "physed = df['PhysActivity'].value_counts()\n",
        "physed.plot(kind = 'bar')\n",
        "plt.title('Physical Activity')\n",
        "plt.ylabel('Count');"
      ],
      "metadata": {
        "colab": {
          "base_uri": "https://localhost:8080/",
          "height": 287
        },
        "id": "M0cUXhfrmaf_",
        "outputId": "a7451365-e41d-48cc-b28c-cad9bbb098d3"
      },
      "execution_count": null,
      "outputs": [
        {
          "output_type": "display_data",
          "data": {
            "image/png": "[encoded data removed]",
            "text/plain": [
              "<Figure size 432x288 with 1 Axes>"
            ]
          },
          "metadata": {
            "needs_background": "light"
          }
        }
      ]
    },
    {
      "cell_type": "markdown",
      "source": [
        "This visual shows that most of our samples report some form of physical activity beyond normal daily activity in the last 30 days. Physical Activity is not correlated to our target vector."
      ],
      "metadata": {
        "id": "_UywxMn3nfni"
      }
    },
    {
      "cell_type": "code",
      "source": [
        "# visual for fruit\n",
        "fruit = df['Fruits'].value_counts()\n",
        "fruit.plot(kind = 'bar')\n",
        "plt.title('Fruits')\n",
        "plt.ylabel('Count');"
      ],
      "metadata": {
        "colab": {
          "base_uri": "https://localhost:8080/",
          "height": 287
        },
        "id": "MZ_Ln6QOnX2i",
        "outputId": "13bac7bc-f02e-4139-918b-eb1bfac8a5d9"
      },
      "execution_count": null,
      "outputs": [
        {
          "output_type": "display_data",
          "data": {
            "image/png": "[encoded data removed]",
            "text/plain": [
              "<Figure size 432x288 with 1 Axes>"
            ]
          },
          "metadata": {
            "needs_background": "light"
          }
        }
      ]
    },
    {
      "cell_type": "markdown",
      "source": [
        "This visual shows that most of our samples consume fruit at least 1 time per day. Fruits column is not correlated to our target vector."
      ],
      "metadata": {
        "id": "3bcxlnLIoUvI"
      }
    },
    {
      "cell_type": "code",
      "source": [
        "# visual for veggies\n",
        "veg = df['Veggies'].value_counts()\n",
        "veg.plot(kind = 'bar')\n",
        "plt.title('Vegetables')\n",
        "plt.ylabel('Count');"
      ],
      "metadata": {
        "colab": {
          "base_uri": "https://localhost:8080/",
          "height": 287
        },
        "id": "TAUWcbqIoSha",
        "outputId": "d398cf4e-48b2-482e-d780-e10ecd3f47f5"
      },
      "execution_count": null,
      "outputs": [
        {
          "output_type": "display_data",
          "data": {
            "image/png": "[encoded data removed]",
            "text/plain": [
              "<Figure size 432x288 with 1 Axes>"
            ]
          },
          "metadata": {
            "needs_background": "light"
          }
        }
      ]
    },
    {
      "cell_type": "markdown",
      "source": [
        "This visual shows us that most of our samples report consuming vegetables at least once per day. Veggies column is not correlated to our target vector."
      ],
      "metadata": {
        "id": "hGO7sbuiqHoq"
      }
    },
    {
      "cell_type": "code",
      "source": [
        "# visual for heavy alcohol consumption\n",
        "alcohol = df['HvyAlcoholConsump'].value_counts()\n",
        "alcohol.plot(kind = 'bar')\n",
        "plt.title('Heacy Alcohol Consumption')\n",
        "plt.ylabel('Count');"
      ],
      "metadata": {
        "colab": {
          "base_uri": "https://localhost:8080/",
          "height": 287
        },
        "id": "eYi-weJcqFQM",
        "outputId": "bc813dc8-406d-4e17-8a1e-2e7af8df8e8c"
      },
      "execution_count": null,
      "outputs": [
        {
          "output_type": "display_data",
          "data": {
            "image/png": "[encoded data removed]",
            "text/plain": [
              "<Figure size 432x288 with 1 Axes>"
            ]
          },
          "metadata": {
            "needs_background": "light"
          }
        }
      ]
    },
    {
      "cell_type": "markdown",
      "source": [
        "This visual shows us that nearly all of our samples do not report heavy drinking. HvyAlcoholConsump is not correlated to our target vector."
      ],
      "metadata": {
        "id": "d0gmreARq0DY"
      }
    },
    {
      "cell_type": "code",
      "source": [
        "# visual for health coverage\n",
        "ins = df['AnyHealthcare'].value_counts()\n",
        "ins.plot(kind = 'bar')\n",
        "plt.title('Health Coverage')\n",
        "plt.ylabel('Count');"
      ],
      "metadata": {
        "colab": {
          "base_uri": "https://localhost:8080/",
          "height": 287
        },
        "id": "fUYtuLQPqyrW",
        "outputId": "08c83700-62d5-41e1-9acb-5647b7112534"
      },
      "execution_count": null,
      "outputs": [
        {
          "output_type": "display_data",
          "data": {
            "image/png": "[encoded data removed]",
            "text/plain": [
              "<Figure size 432x288 with 1 Axes>"
            ]
          },
          "metadata": {
            "needs_background": "light"
          }
        }
      ]
    },
    {
      "cell_type": "markdown",
      "source": [
        "This visual shows that nearly all of our samples report having some form of health coverage.  AnyHealthcare is not correlated to our target vector."
      ],
      "metadata": {
        "id": "1tVeWhjjrZdz"
      }
    },
    {
      "cell_type": "code",
      "source": [
        "# visual for NoDocbcCost\n",
        "# this is essentially samples that needed medical attention, but avoided due to cost\n",
        "cost = df['NoDocbcCost'].value_counts()\n",
        "cost.plot(kind = 'bar')\n",
        "plt.title('Cannot Afford Care')\n",
        "plt.ylabel('Count');"
      ],
      "metadata": {
        "colab": {
          "base_uri": "https://localhost:8080/",
          "height": 287
        },
        "id": "BxccaIB_rT0m",
        "outputId": "c1ea8312-8e60-4164-ba8c-e72d99a40788"
      },
      "execution_count": null,
      "outputs": [
        {
          "output_type": "display_data",
          "data": {
            "image/png": "[encoded data removed]",
            "text/plain": [
              "<Figure size 432x288 with 1 Axes>"
            ]
          },
          "metadata": {
            "needs_background": "light"
          }
        }
      ]
    },
    {
      "cell_type": "markdown",
      "source": [
        "This visual shows that very little of our sample report avoiding medical care due to cost.  NoDocbcCost is not correlated to our target vector."
      ],
      "metadata": {
        "id": "pH9ZLDeZsDcU"
      }
    },
    {
      "cell_type": "code",
      "source": [
        "# visual for General Health\n",
        "df['GenHlth'].hist(bins = 5);"
      ],
      "metadata": {
        "colab": {
          "base_uri": "https://localhost:8080/",
          "height": 265
        },
        "id": "cKwRzuKKsBo6",
        "outputId": "19c55ee3-e5f8-490d-decf-30170d1d45b5"
      },
      "execution_count": null,
      "outputs": [
        {
          "output_type": "display_data",
          "data": {
            "image/png": "[encoded data removed]",
            "text/plain": [
              "<Figure size 432x288 with 1 Axes>"
            ]
          },
          "metadata": {
            "needs_background": "light"
          }
        }
      ]
    },
    {
      "cell_type": "markdown",
      "source": [
        "This visual shows us that most of our samples report their general health as either 2 or 3 on a scale of 5.  GenHlth is moderately correlated to our target vector."
      ],
      "metadata": {
        "id": "PKcYeSNEsl8_"
      }
    },
    {
      "cell_type": "code",
      "source": [
        "# visual for MentHlth\n",
        "df['MentHlth'].plot(kind = 'box');"
      ],
      "metadata": {
        "colab": {
          "base_uri": "https://localhost:8080/",
          "height": 265
        },
        "id": "IpmUqYwXsiby",
        "outputId": "e45a9589-0e9b-4de8-bcb6-8c301f67a01a"
      },
      "execution_count": null,
      "outputs": [
        {
          "output_type": "display_data",
          "data": {
            "image/png": "[encoded data removed]",
            "text/plain": [
              "<Figure size 432x288 with 1 Axes>"
            ]
          },
          "metadata": {
            "needs_background": "light"
          }
        }
      ]
    },
    {
      "cell_type": "markdown",
      "source": [
        "This visual shows that the vast majority of our samples report fewer than 5 days out of the past 30 with poor mental health.  There are outliers above the statistical max.  This shows that few samples experienced mental health issues, but those that did experienced it in large amounts.  We will keep the outliers for this reason. MentHlth is not correlated to our target vector."
      ],
      "metadata": {
        "id": "YoNSqu7wtLNG"
      }
    },
    {
      "cell_type": "code",
      "source": [
        "# visual for PhysHlth\n",
        "df['PhysHlth'].plot(kind = 'box');"
      ],
      "metadata": {
        "colab": {
          "base_uri": "https://localhost:8080/",
          "height": 265
        },
        "id": "9skis_1etE2y",
        "outputId": "81e3a10d-4cc4-465b-a078-c55150be8294"
      },
      "execution_count": null,
      "outputs": [
        {
          "output_type": "display_data",
          "data": {
            "image/png": "[encoded data removed]",
            "text/plain": [
              "<Figure size 432x288 with 1 Axes>"
            ]
          },
          "metadata": {
            "needs_background": "light"
          }
        }
      ]
    },
    {
      "cell_type": "markdown",
      "source": [
        "Like MentHlth, this visual shows that most of our sample report fewer than 5 days with poor physical health.  There are also outliers above the statistical mean. This shows that a relatively small number of samples experienced issues with physical health, but those that did experienced them often.  We will keep the outliers for this reason. However, PhysHlth is weakly correlated to our target vector."
      ],
      "metadata": {
        "id": "A_cHsKCHt5Hh"
      }
    },
    {
      "cell_type": "code",
      "source": [
        "# visual for diffwalk\n",
        "walk = df['DiffWalk'].value_counts()\n",
        "walk.plot(kind = 'bar')\n",
        "plt.title('Difficulty Walking')\n",
        "plt.ylabel('Count');"
      ],
      "metadata": {
        "colab": {
          "base_uri": "https://localhost:8080/",
          "height": 287
        },
        "id": "BoxPx16Mt2h8",
        "outputId": "cba1ce54-4466-4ed9-990f-e7d741ceb79c"
      },
      "execution_count": null,
      "outputs": [
        {
          "output_type": "display_data",
          "data": {
            "image/png": "[encoded data removed]",
            "text/plain": [
              "<Figure size 432x288 with 1 Axes>"
            ]
          },
          "metadata": {
            "needs_background": "light"
          }
        }
      ]
    },
    {
      "cell_type": "markdown",
      "source": [
        "This visual shows that most of our samples do not report difficulty walking.  DiffWalk is moderately correlated to our target vector."
      ],
      "metadata": {
        "id": "9jfnlizFv7Ha"
      }
    },
    {
      "cell_type": "code",
      "source": [
        "# visual for sex\n",
        "sex = df['Sex'].value_counts()\n",
        "sex.plot(kind = 'bar')\n",
        "plt.title('Sex')\n",
        "plt.ylabel('Count');"
      ],
      "metadata": {
        "colab": {
          "base_uri": "https://localhost:8080/",
          "height": 287
        },
        "id": "gx9EFyDQv2um",
        "outputId": "2028bcce-60a5-4f28-b326-8b4771bce397"
      },
      "execution_count": null,
      "outputs": [
        {
          "output_type": "display_data",
          "data": {
            "image/png": "[encoded data removed]",
            "text/plain": [
              "<Figure size 432x288 with 1 Axes>"
            ]
          },
          "metadata": {
            "needs_background": "light"
          }
        }
      ]
    },
    {
      "cell_type": "markdown",
      "source": [
        "This visual shows that we have slightly more males than females in our sample.  Sex is not correlated to our target vector."
      ],
      "metadata": {
        "id": "Pp67kLYawiWD"
      }
    },
    {
      "cell_type": "code",
      "source": [
        "# visual for age\n",
        "df['Age'].hist(bins = 14);"
      ],
      "metadata": {
        "colab": {
          "base_uri": "https://localhost:8080/",
          "height": 265
        },
        "id": "Jn-Uf3j5wS4n",
        "outputId": "d26456ca-3f94-4159-906a-36fd2fc233b5"
      },
      "execution_count": null,
      "outputs": [
        {
          "output_type": "display_data",
          "data": {
            "image/png": "[encoded data removed]",
            "text/plain": [
              "<Figure size 432x288 with 1 Axes>"
            ]
          },
          "metadata": {
            "needs_background": "light"
          }
        }
      ]
    },
    {
      "cell_type": "markdown",
      "source": [
        "Age is fairly normally distributed within our sample. Age is moderately correlated to our target vector.\n",
        "\n",
        "NOTE: the values for age are grouped into 14 age categories.  We do not have the actual age values."
      ],
      "metadata": {
        "id": "CWdrU_JexBQ2"
      }
    },
    {
      "cell_type": "code",
      "source": [
        "# visual for education\n",
        "ed = df['Education'].value_counts()\n",
        "ed.plot(kind = 'bar')\n",
        "plt.title('Education')\n",
        "plt.ylabel('Count');"
      ],
      "metadata": {
        "colab": {
          "base_uri": "https://localhost:8080/",
          "height": 287
        },
        "id": "ioUumZNow5tu",
        "outputId": "3bdd5812-028c-4edd-935c-644a389d60a4"
      },
      "execution_count": null,
      "outputs": [
        {
          "output_type": "display_data",
          "data": {
            "image/png": "[encoded data removed]",
            "text/plain": [
              "<Figure size 432x288 with 1 Axes>"
            ]
          },
          "metadata": {
            "needs_background": "light"
          }
        }
      ]
    },
    {
      "cell_type": "markdown",
      "source": [
        "We do not have the category labels for Education.  Education is not correlated to our target vector."
      ],
      "metadata": {
        "id": "ODIupsW2x5hX"
      }
    },
    {
      "cell_type": "code",
      "source": [
        "# visual for income\n",
        "df['Income'].hist(bins = 8);"
      ],
      "metadata": {
        "colab": {
          "base_uri": "https://localhost:8080/",
          "height": 265
        },
        "id": "p_nrAJY9xxDm",
        "outputId": "0234298a-e234-40b3-aea2-a36f35c8da99"
      },
      "execution_count": null,
      "outputs": [
        {
          "output_type": "display_data",
          "data": {
            "image/png": "[encoded data removed]",
            "text/plain": [
              "<Figure size 432x288 with 1 Axes>"
            ]
          },
          "metadata": {
            "needs_background": "light"
          }
        }
      ]
    },
    {
      "cell_type": "markdown",
      "source": [
        "We also do not have category labels for Income. However, Income is weakly correlated to our target vector."
      ],
      "metadata": {
        "id": "2s6fONU0ypOQ"
      }
    },
    {
      "cell_type": "markdown",
      "source": [
        "##Heatmap\n",
        "We will create a heatmap to visualize all correlations in one visual."
      ],
      "metadata": {
        "id": "exr7cl-Jzb6W"
      }
    },
    {
      "cell_type": "code",
      "source": [
        "corr = df.corr()\n",
        "plt.figure(figsize = (15,15))\n",
        "sns.heatmap(data = corr, cmap = 'Blues', annot = True);"
      ],
      "metadata": {
        "colab": {
          "base_uri": "https://localhost:8080/",
          "height": 967
        },
        "id": "XZLQBbJWyl71",
        "outputId": "df6ae625-8049-433e-e78e-c7e6f86ef8ce"
      },
      "execution_count": null,
      "outputs": [
        {
          "output_type": "display_data",
          "data": {
            "image/png": "[encoded data removed]",
            "text/plain": [
              "<Figure size 1080x1080 with 2 Axes>"
            ]
          },
          "metadata": {
            "needs_background": "light"
          }
        }
      ]
    },
    {
      "cell_type": "markdown",
      "source": [
        "##Strong/Moderate Correlations to Target Vector\n",
        "The following columns show strong or moderate correlation to our Target of HeartDiseaseorAttack: HighBP, Stroke, GenHlth, and Age."
      ],
      "metadata": {
        "id": "BhcIYTRg0V3O"
      }
    },
    {
      "cell_type": "markdown",
      "source": [
        "##Strong/Moderate Correlations Between Features\n",
        "The following are strong/moderate correlations between features listed as (feature: features with correlation)\n",
        "\n",
        "HighBP: HighChol, Diabetes, GenHlth, DiffWalk, Age\n",
        "\n",
        "HighChol: HighBP, Diabetes, Age\n",
        "\n",
        "CholCheck: None\n",
        "\n",
        "BMI: GenHlth\n",
        "\n",
        "Smoker: None\n",
        "\n",
        "Stroke: None\n",
        "\n",
        "Diabetes: HighBP, HighChol, GenHlth, DiffWalk\n",
        "\n",
        "PhysActivity: GenHlth, PhysHlth, DiffWalk\n",
        "\n",
        "Fruits: Veggies\n",
        "\n",
        "Veggies: Fruits\n",
        "\n",
        "HvyAlcholConsump: None\n",
        "\n",
        "AnyHealthCare: NoDocbcCost, \n",
        "\n",
        "NoDocbcCost: AnyHealthCare, Income\n",
        "\n",
        "GenHlth: HighBP, BMI, Diabetes, PhysActivity, MentHlth, DIffWalk, Education, Income\n",
        "\n",
        "MentHlth: GenHlth, PhysHlth, DiffWalk, Income\n",
        "\n",
        "PhysHlth: PhysActivity, GenHlth, MentHlth, DiffWalk, Income\n",
        "\n",
        "DiffWalk: HighBP, Diabetes, PhysActivity, GenHlth, MentHlth, PhysHlth, Age, Income\n",
        "\n",
        "Sex: None\n",
        "\n",
        "Age: HighBP, HighChol, DIffWalk, \n",
        "\n",
        "Education: GenHlth, Income\n",
        "\n",
        "Income: NoDocbcCost, GenHlth, MentHlth, PhysHlth, DiffWalk, Education"
      ],
      "metadata": {
        "id": "R2LcWb4W0-_A"
      }
    },
    {
      "cell_type": "markdown",
      "source": [
        "##Multi-variate Data Visualizations"
      ],
      "metadata": {
        "id": "0Fo39QM5ZGeO"
      }
    },
    {
      "cell_type": "code",
      "source": [
        "df.head()"
      ],
      "metadata": {
        "id": "aqgtYDrezviO",
        "colab": {
          "base_uri": "https://localhost:8080/",
          "height": 270
        },
        "outputId": "b08d6ee6-92be-4109-f2dd-00d538c4d81d"
      },
      "execution_count": null,
      "outputs": [
        {
          "output_type": "execute_result",
          "data": {
            "text/html": [
              "\n",
              "  <div id=\"df-18d7f0c8-3807-40d5-9e04-4580582752c8\">\n",
              "    <div class=\"colab-df-container\">\n",
              "      <div>\n",
              "<style scoped>\n",
              "    .dataframe tbody tr th:only-of-type {\n",
              "        vertical-align: middle;\n",
              "    }\n",
              "\n",
              "    .dataframe tbody tr th {\n",
              "        vertical-align: top;\n",
              "    }\n",
              "\n",
              "    .dataframe thead th {\n",
              "        text-align: right;\n",
              "    }\n",
              "</style>\n",
              "<table border=\"1\" class=\"dataframe\">\n",
              "  <thead>\n",
              "    <tr style=\"text-align: right;\">\n",
              "      <th></th>\n",
              "      <th>HeartDiseaseorAttack</th>\n",
              "      <th>HighBP</th>\n",
              "      <th>HighChol</th>\n",
              "      <th>CholCheck</th>\n",
              "      <th>BMI</th>\n",
              "      <th>Smoker</th>\n",
              "      <th>Stroke</th>\n",
              "      <th>Diabetes</th>\n",
              "      <th>PhysActivity</th>\n",
              "      <th>Fruits</th>\n",
              "      <th>Veggies</th>\n",
              "      <th>HvyAlcoholConsump</th>\n",
              "      <th>AnyHealthcare</th>\n",
              "      <th>NoDocbcCost</th>\n",
              "      <th>GenHlth</th>\n",
              "      <th>MentHlth</th>\n",
              "      <th>PhysHlth</th>\n",
              "      <th>DiffWalk</th>\n",
              "      <th>Sex</th>\n",
              "      <th>Age</th>\n",
              "      <th>Education</th>\n",
              "      <th>Income</th>\n",
              "    </tr>\n",
              "  </thead>\n",
              "  <tbody>\n",
              "    <tr>\n",
              "      <th>0</th>\n",
              "      <td>0.0</td>\n",
              "      <td>1.0</td>\n",
              "      <td>1.0</td>\n",
              "      <td>1.0</td>\n",
              "      <td>40.0</td>\n",
              "      <td>1.0</td>\n",
              "      <td>0.0</td>\n",
              "      <td>0.0</td>\n",
              "      <td>0.0</td>\n",
              "      <td>0.0</td>\n",
              "      <td>1.0</td>\n",
              "      <td>0.0</td>\n",
              "      <td>1.0</td>\n",
              "      <td>0.0</td>\n",
              "      <td>5.0</td>\n",
              "      <td>18.0</td>\n",
              "      <td>15.0</td>\n",
              "      <td>1.0</td>\n",
              "      <td>0.0</td>\n",
              "      <td>9.0</td>\n",
              "      <td>4.0</td>\n",
              "      <td>3.0</td>\n",
              "    </tr>\n",
              "    <tr>\n",
              "      <th>1</th>\n",
              "      <td>0.0</td>\n",
              "      <td>0.0</td>\n",
              "      <td>0.0</td>\n",
              "      <td>0.0</td>\n",
              "      <td>25.0</td>\n",
              "      <td>1.0</td>\n",
              "      <td>0.0</td>\n",
              "      <td>0.0</td>\n",
              "      <td>1.0</td>\n",
              "      <td>0.0</td>\n",
              "      <td>0.0</td>\n",
              "      <td>0.0</td>\n",
              "      <td>0.0</td>\n",
              "      <td>1.0</td>\n",
              "      <td>3.0</td>\n",
              "      <td>0.0</td>\n",
              "      <td>0.0</td>\n",
              "      <td>0.0</td>\n",
              "      <td>0.0</td>\n",
              "      <td>7.0</td>\n",
              "      <td>6.0</td>\n",
              "      <td>1.0</td>\n",
              "    </tr>\n",
              "    <tr>\n",
              "      <th>2</th>\n",
              "      <td>0.0</td>\n",
              "      <td>1.0</td>\n",
              "      <td>1.0</td>\n",
              "      <td>1.0</td>\n",
              "      <td>28.0</td>\n",
              "      <td>0.0</td>\n",
              "      <td>0.0</td>\n",
              "      <td>0.0</td>\n",
              "      <td>0.0</td>\n",
              "      <td>1.0</td>\n",
              "      <td>0.0</td>\n",
              "      <td>0.0</td>\n",
              "      <td>1.0</td>\n",
              "      <td>1.0</td>\n",
              "      <td>5.0</td>\n",
              "      <td>30.0</td>\n",
              "      <td>30.0</td>\n",
              "      <td>1.0</td>\n",
              "      <td>0.0</td>\n",
              "      <td>9.0</td>\n",
              "      <td>4.0</td>\n",
              "      <td>8.0</td>\n",
              "    </tr>\n",
              "    <tr>\n",
              "      <th>3</th>\n",
              "      <td>0.0</td>\n",
              "      <td>1.0</td>\n",
              "      <td>0.0</td>\n",
              "      <td>1.0</td>\n",
              "      <td>27.0</td>\n",
              "      <td>0.0</td>\n",
              "      <td>0.0</td>\n",
              "      <td>0.0</td>\n",
              "      <td>1.0</td>\n",
              "      <td>1.0</td>\n",
              "      <td>1.0</td>\n",
              "      <td>0.0</td>\n",
              "      <td>1.0</td>\n",
              "      <td>0.0</td>\n",
              "      <td>2.0</td>\n",
              "      <td>0.0</td>\n",
              "      <td>0.0</td>\n",
              "      <td>0.0</td>\n",
              "      <td>0.0</td>\n",
              "      <td>11.0</td>\n",
              "      <td>3.0</td>\n",
              "      <td>6.0</td>\n",
              "    </tr>\n",
              "    <tr>\n",
              "      <th>4</th>\n",
              "      <td>0.0</td>\n",
              "      <td>1.0</td>\n",
              "      <td>1.0</td>\n",
              "      <td>1.0</td>\n",
              "      <td>24.0</td>\n",
              "      <td>0.0</td>\n",
              "      <td>0.0</td>\n",
              "      <td>0.0</td>\n",
              "      <td>1.0</td>\n",
              "      <td>1.0</td>\n",
              "      <td>1.0</td>\n",
              "      <td>0.0</td>\n",
              "      <td>1.0</td>\n",
              "      <td>0.0</td>\n",
              "      <td>2.0</td>\n",
              "      <td>3.0</td>\n",
              "      <td>0.0</td>\n",
              "      <td>0.0</td>\n",
              "      <td>0.0</td>\n",
              "      <td>11.0</td>\n",
              "      <td>5.0</td>\n",
              "      <td>4.0</td>\n",
              "    </tr>\n",
              "  </tbody>\n",
              "</table>\n",
              "</div>\n",
              "      <button class=\"colab-df-convert\" onclick=\"convertToInteractive('df-18d7f0c8-3807-40d5-9e04-4580582752c8')\"\n",
              "              title=\"Convert this dataframe to an interactive table.\"\n",
              "              style=\"display:none;\">\n",
              "        \n",
              "  <svg xmlns=\"http://www.w3.org/2000/svg\" height=\"24px\"viewBox=\"0 0 24 24\"\n",
              "       width=\"24px\">\n",
              "    <path d=\"M0 0h24v24H0V0z\" fill=\"none\"/>\n",
              "    <path d=\"M18.56 5.44l.94 2.06.94-2.06 2.06-.94-2.06-.94-.94-2.06-.94 2.06-2.06.94zm-11 1L8.5 8.5l.94-2.06 2.06-.94-2.06-.94L8.5 2.5l-.94 2.06-2.06.94zm10 10l.94 2.06.94-2.06 2.06-.94-2.06-.94-.94-2.06-.94 2.06-2.06.94z\"/><path d=\"M17.41 7.96l-1.37-1.37c-.4-.4-.92-.59-1.43-.59-.52 0-1.04.2-1.43.59L10.3 9.45l-7.72 7.72c-.78.78-.78 2.05 0 2.83L4 21.41c.39.39.9.59 1.41.59.51 0 1.02-.2 1.41-.59l7.78-7.78 2.81-2.81c.8-.78.8-2.07 0-2.86zM5.41 20L4 18.59l7.72-7.72 1.47 1.35L5.41 20z\"/>\n",
              "  </svg>\n",
              "      </button>\n",
              "      \n",
              "  <style>\n",
              "    .colab-df-container {\n",
              "      display:flex;\n",
              "      flex-wrap:wrap;\n",
              "      gap: 12px;\n",
              "    }\n",
              "\n",
              "    .colab-df-convert {\n",
              "      background-color: #E8F0FE;\n",
              "      border: none;\n",
              "      border-radius: 50%;\n",
              "      cursor: pointer;\n",
              "      display: none;\n",
              "      fill: #1967D2;\n",
              "      height: 32px;\n",
              "      padding: 0 0 0 0;\n",
              "      width: 32px;\n",
              "    }\n",
              "\n",
              "    .colab-df-convert:hover {\n",
              "      background-color: #E2EBFA;\n",
              "      box-shadow: 0px 1px 2px rgba(60, 64, 67, 0.3), 0px 1px 3px 1px rgba(60, 64, 67, 0.15);\n",
              "      fill: #174EA6;\n",
              "    }\n",
              "\n",
              "    [theme=dark] .colab-df-convert {\n",
              "      background-color: #3B4455;\n",
              "      fill: #D2E3FC;\n",
              "    }\n",
              "\n",
              "    [theme=dark] .colab-df-convert:hover {\n",
              "      background-color: #434B5C;\n",
              "      box-shadow: 0px 1px 3px 1px rgba(0, 0, 0, 0.15);\n",
              "      filter: drop-shadow(0px 1px 2px rgba(0, 0, 0, 0.3));\n",
              "      fill: #FFFFFF;\n",
              "    }\n",
              "  </style>\n",
              "\n",
              "      <script>\n",
              "        const buttonEl =\n",
              "          document.querySelector('#df-18d7f0c8-3807-40d5-9e04-4580582752c8 button.colab-df-convert');\n",
              "        buttonEl.style.display =\n",
              "          google.colab.kernel.accessAllowed ? 'block' : 'none';\n",
              "\n",
              "        async function convertToInteractive(key) {\n",
              "          const element = document.querySelector('#df-18d7f0c8-3807-40d5-9e04-4580582752c8');\n",
              "          const dataTable =\n",
              "            await google.colab.kernel.invokeFunction('convertToInteractive',\n",
              "                                                     [key], {});\n",
              "          if (!dataTable) return;\n",
              "\n",
              "          const docLinkHtml = 'Like what you see? Visit the ' +\n",
              "            '<a target=\"_blank\" href=https://colab.research.google.com/notebooks/data_table.ipynb>data table notebook</a>'\n",
              "            + ' to learn more about interactive tables.';\n",
              "          element.innerHTML = '';\n",
              "          dataTable['output_type'] = 'display_data';\n",
              "          await google.colab.output.renderOutput(dataTable, element);\n",
              "          const docLink = document.createElement('div');\n",
              "          docLink.innerHTML = docLinkHtml;\n",
              "          element.appendChild(docLink);\n",
              "        }\n",
              "      </script>\n",
              "    </div>\n",
              "  </div>\n",
              "  "
            ],
            "text/plain": [
              "   HeartDiseaseorAttack  HighBP  HighChol  ...   Age  Education  Income\n",
              "0                   0.0     1.0       1.0  ...   9.0        4.0     3.0\n",
              "1                   0.0     0.0       0.0  ...   7.0        6.0     1.0\n",
              "2                   0.0     1.0       1.0  ...   9.0        4.0     8.0\n",
              "3                   0.0     1.0       0.0  ...  11.0        3.0     6.0\n",
              "4                   0.0     1.0       1.0  ...  11.0        5.0     4.0\n",
              "\n",
              "[5 rows x 22 columns]"
            ]
          },
          "metadata": {},
          "execution_count": 35
        }
      ]
    },
    {
      "cell_type": "code",
      "source": [
        "sns.barplot(data = df, x = 'GenHlth', y = 'Age', hue = 'HeartDiseaseorAttack', ci = None)\n",
        "plt.xlabel('General Health Score', fontsize = 14)\n",
        "plt.ylabel('Age', fontsize = 14)\n",
        "plt.title('Age and Health on Cardiovascular Events', fontsize = 16)\n",
        "plt.legend(loc = (1.02, 0), title = 'Cardiovascular Event')\n",
        "plt.tight_layout()\n",
        "plt.savefig('age.png');"
      ],
      "metadata": {
        "colab": {
          "base_uri": "https://localhost:8080/",
          "height": 297
        },
        "id": "cEI2le0KZ--a",
        "outputId": "dd903771-2a3a-4b08-97e0-039d017935e3"
      },
      "execution_count": null,
      "outputs": [
        {
          "output_type": "display_data",
          "data": {
            "image/png": "[encoded data removed]",
            "text/plain": [
              "<Figure size 432x288 with 1 Axes>"
            ]
          },
          "metadata": {
            "needs_background": "light"
          }
        }
      ]
    },
    {
      "cell_type": "code",
      "source": [
        "sns.barplot(data = df, x = 'Diabetes', y = 'HeartDiseaseorAttack', ci = None)\n",
        "plt.xlabel(None)\n",
        "plt.ylabel('Heart Disease', fontsize = 12)\n",
        "plt.xticks([0, 1, 2],['No Diabetes', 'Pre-Diabetic', 'Diabetic'], rotation = 0)\n",
        "plt.title('Likelihood of Heart Disease by Diabetes', fontsize = 16)\n",
        "plt.savefig('diabetic.png');"
      ],
      "metadata": {
        "colab": {
          "base_uri": "https://localhost:8080/",
          "height": 283
        },
        "id": "NsGvqKiqebDF",
        "outputId": "a3f32abe-22d9-4360-fcd6-9ae12ea4dfb2"
      },
      "execution_count": null,
      "outputs": [
        {
          "output_type": "display_data",
          "data": {
            "image/png": "[encoded data removed]",
            "text/plain": [
              "<Figure size 432x288 with 1 Axes>"
            ]
          },
          "metadata": {
            "needs_background": "light"
          }
        }
      ]
    },
    {
      "cell_type": "code",
      "source": [
        "sns.barplot(data = df, x = 'Stroke', y = 'HeartDiseaseorAttack', ci = None)\n",
        "plt.xlabel(None)\n",
        "plt.xticks([0,1], ['No Stroke', 'Stroke'])\n",
        "plt.ylabel('Heart Disease', fontsize = 12)\n",
        "plt.title('Effect of Stroke on Heart Disease Prevalence', fontsize = 16)\n",
        "plt.savefig('stroke.png');"
      ],
      "metadata": {
        "colab": {
          "base_uri": "https://localhost:8080/",
          "height": 283
        },
        "id": "VpPjjKy8hRB4",
        "outputId": "c437e03f-7b45-4afe-cfdf-cf52e96476d0"
      },
      "execution_count": null,
      "outputs": [
        {
          "output_type": "display_data",
          "data": {
            "image/png": "[encoded data removed]",
            "text/plain": [
              "<Figure size 432x288 with 1 Axes>"
            ]
          },
          "metadata": {
            "needs_background": "light"
          }
        }
      ]
    },
    {
      "cell_type": "code",
      "source": [
        ""
      ],
      "metadata": {
        "id": "Vau9v1ZGhvxY"
      },
      "execution_count": null,
      "outputs": []
    }
  ]
}